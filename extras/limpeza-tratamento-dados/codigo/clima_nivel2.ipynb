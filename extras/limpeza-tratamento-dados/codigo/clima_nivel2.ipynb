{
 "cells": [
  {
   "cell_type": "code",
   "execution_count": 1,
   "id": "7f6f8571",
   "metadata": {},
   "outputs": [],
   "source": [
    "# Importando bibliotecas\n",
    "import pandas as pd\n",
    "import statistics as sts\n",
    "import seaborn as srn"
   ]
  },
  {
   "cell_type": "code",
   "execution_count": 10,
   "id": "419d410e",
   "metadata": {},
   "outputs": [
    {
     "data": {
      "text/html": [
       "<div>\n",
       "<style scoped>\n",
       "    .dataframe tbody tr th:only-of-type {\n",
       "        vertical-align: middle;\n",
       "    }\n",
       "\n",
       "    .dataframe tbody tr th {\n",
       "        vertical-align: top;\n",
       "    }\n",
       "\n",
       "    .dataframe thead th {\n",
       "        text-align: right;\n",
       "    }\n",
       "</style>\n",
       "<table border=\"1\" class=\"dataframe\">\n",
       "  <thead>\n",
       "    <tr style=\"text-align: right;\">\n",
       "      <th></th>\n",
       "      <th>Cidade</th>\n",
       "      <th>Temperatura</th>\n",
       "      <th>Umidade</th>\n",
       "      <th>Chuva</th>\n",
       "      <th>Vento</th>\n",
       "    </tr>\n",
       "  </thead>\n",
       "  <tbody>\n",
       "    <tr>\n",
       "      <th>0</th>\n",
       "      <td>São Paulo</td>\n",
       "      <td>25</td>\n",
       "      <td>80.0</td>\n",
       "      <td>sim</td>\n",
       "      <td>forte</td>\n",
       "    </tr>\n",
       "    <tr>\n",
       "      <th>1</th>\n",
       "      <td>Rio</td>\n",
       "      <td>200</td>\n",
       "      <td>50.0</td>\n",
       "      <td>nao</td>\n",
       "      <td>fraco</td>\n",
       "    </tr>\n",
       "    <tr>\n",
       "      <th>2</th>\n",
       "      <td>BH</td>\n",
       "      <td>22</td>\n",
       "      <td>-10.0</td>\n",
       "      <td>sim</td>\n",
       "      <td>NaN</td>\n",
       "    </tr>\n",
       "    <tr>\n",
       "      <th>3</th>\n",
       "      <td>Curitiba</td>\n",
       "      <td>18</td>\n",
       "      <td>90.0</td>\n",
       "      <td>menos</td>\n",
       "      <td>moderado</td>\n",
       "    </tr>\n",
       "    <tr>\n",
       "      <th>4</th>\n",
       "      <td>Recife</td>\n",
       "      <td>30</td>\n",
       "      <td>105.0</td>\n",
       "      <td>não</td>\n",
       "      <td>forte</td>\n",
       "    </tr>\n",
       "  </tbody>\n",
       "</table>\n",
       "</div>"
      ],
      "text/plain": [
       "      Cidade  Temperatura  Umidade  Chuva     Vento\n",
       "0  São Paulo           25     80.0    sim     forte\n",
       "1        Rio          200     50.0    nao     fraco\n",
       "2         BH           22    -10.0    sim       NaN\n",
       "3   Curitiba           18     90.0  menos  moderado\n",
       "4     Recife           30    105.0    não     forte"
      ]
     },
     "execution_count": 10,
     "metadata": {},
     "output_type": "execute_result"
    }
   ],
   "source": [
    "# Importando dados\n",
    "dataset = pd.read_csv('../csv/clima_nivel2.csv')\n",
    "\n",
    "# Vendo head do csv\n",
    "dataset.head()"
   ]
  },
  {
   "cell_type": "code",
   "execution_count": 11,
   "id": "105a4b31",
   "metadata": {},
   "outputs": [
    {
     "name": "stdout",
     "output_type": "stream",
     "text": [
      "\n",
      "Duplicados: 0\n"
     ]
    },
    {
     "data": {
      "text/plain": [
       "Cidade         0\n",
       "Temperatura    0\n",
       "Umidade        1\n",
       "Chuva          0\n",
       "Vento          1\n",
       "dtype: int64"
      ]
     },
     "execution_count": 11,
     "metadata": {},
     "output_type": "execute_result"
    }
   ],
   "source": [
    "# Vendo se ha valores nulos e duplicados\n",
    "dupli = dataset.duplicated().sum()\n",
    "print(f'\\nDuplicados: {dupli}')\n",
    "\n",
    "dataset.isnull().sum()"
   ]
  },
  {
   "cell_type": "markdown",
   "id": "1b24f90b",
   "metadata": {},
   "source": [
    "- 0 duplicados e 2 nulos"
   ]
  },
  {
   "cell_type": "markdown",
   "id": "cac13364",
   "metadata": {},
   "source": [
    "# Temperatura"
   ]
  },
  {
   "cell_type": "code",
   "execution_count": 12,
   "id": "bdcab7cd",
   "metadata": {},
   "outputs": [
    {
     "data": {
      "text/plain": [
       "Text(0.5, 1.0, 'Temperaturas')"
      ]
     },
     "execution_count": 12,
     "metadata": {},
     "output_type": "execute_result"
    },
    {
     "data": {
      "image/png": "[encoded data removed]",
      "text/plain": [
       "<Figure size 640x480 with 1 Axes>"
      ]
     },
     "metadata": {},
     "output_type": "display_data"
    }
   ],
   "source": [
    "# Análisando gráfico\n",
    "srn.boxplot(dataset[\"Temperatura\"]).set_title(\"Temperaturas\")"
   ]
  },
  {
   "cell_type": "code",
   "execution_count": 13,
   "id": "e7626dce",
   "metadata": {},
   "outputs": [
    {
     "data": {
      "text/plain": [
       "<seaborn.axisgrid.FacetGrid at 0x25c40069460>"
      ]
     },
     "execution_count": 13,
     "metadata": {},
     "output_type": "execute_result"
    },
    {
     "data": {
      "image/png": "[encoded data removed]",
      "text/plain": [
       "<Figure size 500x500 with 1 Axes>"
      ]
     },
     "metadata": {},
     "output_type": "display_data"
    }
   ],
   "source": [
    "srn.displot(dataset[\"Temperatura\"]).set_titles(\"Temperaturas\")"
   ]
  },
  {
   "cell_type": "markdown",
   "id": "3d2861b2",
   "metadata": {},
   "source": [
    "Pontos específicos:\n",
    "- Temperaturas em -100, 200 e 400 graus\n",
    "- Restante aparenta estar na média aceitável para o Brasil"
   ]
  },
  {
   "cell_type": "code",
   "execution_count": null,
   "id": "a193978e",
   "metadata": {},
   "outputs": [
    {
     "data": {
      "text/html": [
       "<div>\n",
       "<style scoped>\n",
       "    .dataframe tbody tr th:only-of-type {\n",
       "        vertical-align: middle;\n",
       "    }\n",
       "\n",
       "    .dataframe tbody tr th {\n",
       "        vertical-align: top;\n",
       "    }\n",
       "\n",
       "    .dataframe thead th {\n",
       "        text-align: right;\n",
       "    }\n",
       "</style>\n",
       "<table border=\"1\" class=\"dataframe\">\n",
       "  <thead>\n",
       "    <tr style=\"text-align: right;\">\n",
       "      <th></th>\n",
       "      <th>Cidade</th>\n",
       "      <th>Temperatura</th>\n",
       "      <th>Umidade</th>\n",
       "      <th>Chuva</th>\n",
       "      <th>Vento</th>\n",
       "    </tr>\n",
       "  </thead>\n",
       "  <tbody>\n",
       "    <tr>\n",
       "      <th>1</th>\n",
       "      <td>Rio</td>\n",
       "      <td>200</td>\n",
       "      <td>50.0</td>\n",
       "      <td>nao</td>\n",
       "      <td>fraco</td>\n",
       "    </tr>\n",
       "    <tr>\n",
       "      <th>5</th>\n",
       "      <td>Salvador</td>\n",
       "      <td>-100</td>\n",
       "      <td>70.0</td>\n",
       "      <td>sim</td>\n",
       "      <td>MENOS</td>\n",
       "    </tr>\n",
       "    <tr>\n",
       "      <th>10</th>\n",
       "      <td>Goiânia</td>\n",
       "      <td>400</td>\n",
       "      <td>30.0</td>\n",
       "      <td>menos</td>\n",
       "      <td>fraco</td>\n",
       "    </tr>\n",
       "  </tbody>\n",
       "</table>\n",
       "</div>"
      ],
      "text/plain": [
       "      Cidade  Temperatura  Umidade  Chuva  Vento\n",
       "1        Rio          200     50.0    nao  fraco\n",
       "5   Salvador         -100     70.0    sim  MENOS\n",
       "10   Goiânia          400     30.0  menos  fraco"
      ]
     },
     "execution_count": 17,
     "metadata": {},
     "output_type": "execute_result"
    }
   ],
   "source": [
    "# Conferindo se os dados batem com os gráficos!\n",
    "dataset.loc[(dataset[\"Temperatura\"] < -50)|(dataset[\"Temperatura\"] > 60)]"
   ]
  },
  {
   "cell_type": "code",
   "execution_count": 19,
   "id": "f9c492b5",
   "metadata": {},
   "outputs": [
    {
     "data": {
      "text/plain": [
       "25.5"
      ]
     },
     "execution_count": 19,
     "metadata": {},
     "output_type": "execute_result"
    }
   ],
   "source": [
    "# Pegando a mediana das temperaturas\n",
    "mediana = sts.median(dataset[\"Temperatura\"])\n",
    "mediana"
   ]
  },
  {
   "cell_type": "code",
   "execution_count": null,
   "id": "14b7569e",
   "metadata": {},
   "outputs": [],
   "source": [
    "# Substituindo valores anormais pela mediana\n",
    "dataset.loc[(dataset[\"Temperatura\"] < -50)|(dataset[\"Temperatura\"] > 60), \"Temperatura\"] = mediana"
   ]
  },
  {
   "cell_type": "code",
   "execution_count": null,
   "id": "400aea52",
   "metadata": {},
   "outputs": [
    {
     "data": {
      "text/html": [
       "<div>\n",
       "<style scoped>\n",
       "    .dataframe tbody tr th:only-of-type {\n",
       "        vertical-align: middle;\n",
       "    }\n",
       "\n",
       "    .dataframe tbody tr th {\n",
       "        vertical-align: top;\n",
       "    }\n",
       "\n",
       "    .dataframe thead th {\n",
       "        text-align: right;\n",
       "    }\n",
       "</style>\n",
       "<table border=\"1\" class=\"dataframe\">\n",
       "  <thead>\n",
       "    <tr style=\"text-align: right;\">\n",
       "      <th></th>\n",
       "      <th>Cidade</th>\n",
       "      <th>Temperatura</th>\n",
       "      <th>Umidade</th>\n",
       "      <th>Chuva</th>\n",
       "      <th>Vento</th>\n",
       "      <th>Temperatua</th>\n",
       "    </tr>\n",
       "  </thead>\n",
       "  <tbody>\n",
       "  </tbody>\n",
       "</table>\n",
       "</div>"
      ],
      "text/plain": [
       "Empty DataFrame\n",
       "Columns: [Cidade, Temperatura, Umidade, Chuva, Vento, Temperatua]\n",
       "Index: []"
      ]
     },
     "execution_count": 28,
     "metadata": {},
     "output_type": "execute_result"
    }
   ],
   "source": [
    "# Verificando se todos valores foram trocados\n",
    "dataset.loc[(dataset[\"Temperatura\"] < -50)|(dataset[\"Temperatura\"] > 60)]"
   ]
  },
  {
   "cell_type": "markdown",
   "id": "5c18290e",
   "metadata": {},
   "source": [
    "# Umidade"
   ]
  },
  {
   "cell_type": "code",
   "execution_count": 29,
   "id": "f85e17ef",
   "metadata": {},
   "outputs": [
    {
     "data": {
      "text/plain": [
       "Text(0.5, 1.0, 'Umidade')"
      ]
     },
     "execution_count": 29,
     "metadata": {},
     "output_type": "execute_result"
    },
    {
     "data": {
      "image/png": "[encoded data removed]",
      "text/plain": [
       "<Figure size 640x480 with 1 Axes>"
      ]
     },
     "metadata": {},
     "output_type": "display_data"
    }
   ],
   "source": [
    "# Analisando gráficos\n",
    "srn.boxplot(dataset[\"Umidade\"]).set_title(\"Umidade\")"
   ]
  },
  {
   "cell_type": "markdown",
   "id": "9f87c832",
   "metadata": {},
   "source": [
    "Pontos a averiguar:\n",
    "- Umidade menor que 0 e maior que 100"
   ]
  },
  {
   "cell_type": "code",
   "execution_count": 31,
   "id": "e955c1c3",
   "metadata": {},
   "outputs": [
    {
     "data": {
      "text/html": [
       "<div>\n",
       "<style scoped>\n",
       "    .dataframe tbody tr th:only-of-type {\n",
       "        vertical-align: middle;\n",
       "    }\n",
       "\n",
       "    .dataframe tbody tr th {\n",
       "        vertical-align: top;\n",
       "    }\n",
       "\n",
       "    .dataframe thead th {\n",
       "        text-align: right;\n",
       "    }\n",
       "</style>\n",
       "<table border=\"1\" class=\"dataframe\">\n",
       "  <thead>\n",
       "    <tr style=\"text-align: right;\">\n",
       "      <th></th>\n",
       "      <th>Cidade</th>\n",
       "      <th>Temperatura</th>\n",
       "      <th>Umidade</th>\n",
       "      <th>Chuva</th>\n",
       "      <th>Vento</th>\n",
       "      <th>Temperatua</th>\n",
       "    </tr>\n",
       "  </thead>\n",
       "  <tbody>\n",
       "    <tr>\n",
       "      <th>2</th>\n",
       "      <td>BH</td>\n",
       "      <td>22.0</td>\n",
       "      <td>-10.0</td>\n",
       "      <td>sim</td>\n",
       "      <td>NaN</td>\n",
       "      <td>NaN</td>\n",
       "    </tr>\n",
       "    <tr>\n",
       "      <th>4</th>\n",
       "      <td>Recife</td>\n",
       "      <td>30.0</td>\n",
       "      <td>105.0</td>\n",
       "      <td>não</td>\n",
       "      <td>forte</td>\n",
       "      <td>NaN</td>\n",
       "    </tr>\n",
       "    <tr>\n",
       "      <th>11</th>\n",
       "      <td>Natal</td>\n",
       "      <td>26.0</td>\n",
       "      <td>200.0</td>\n",
       "      <td>sim</td>\n",
       "      <td>Moderado</td>\n",
       "      <td>NaN</td>\n",
       "    </tr>\n",
       "  </tbody>\n",
       "</table>\n",
       "</div>"
      ],
      "text/plain": [
       "    Cidade  Temperatura  Umidade Chuva     Vento  Temperatua\n",
       "2       BH         22.0    -10.0   sim       NaN         NaN\n",
       "4   Recife         30.0    105.0   não     forte         NaN\n",
       "11   Natal         26.0    200.0   sim  Moderado         NaN"
      ]
     },
     "execution_count": 31,
     "metadata": {},
     "output_type": "execute_result"
    }
   ],
   "source": [
    "# Vendo os valores que estão fora da margem\n",
    "dataset.loc[(dataset[\"Umidade\"] < 0)|(dataset[\"Umidade\"] > 100)]"
   ]
  },
  {
   "cell_type": "code",
   "execution_count": 33,
   "id": "18a3fba5",
   "metadata": {},
   "outputs": [
    {
     "data": {
      "text/plain": [
       "82.5"
      ]
     },
     "execution_count": 33,
     "metadata": {},
     "output_type": "execute_result"
    }
   ],
   "source": [
    "# Pegando a mediana da umidade\n",
    "mediana = sts.median(dataset[\"Umidade\"])\n",
    "mediana"
   ]
  },
  {
   "cell_type": "code",
   "execution_count": 34,
   "id": "6a742d2f",
   "metadata": {},
   "outputs": [],
   "source": [
    "# Substuindo valores\n",
    "dataset.loc[(dataset[\"Umidade\"] < 0)|(dataset[\"Umidade\"] > 100), \"Umidade\"] = mediana"
   ]
  },
  {
   "cell_type": "code",
   "execution_count": 36,
   "id": "1d38c888",
   "metadata": {},
   "outputs": [
    {
     "data": {
      "text/html": [
       "<div>\n",
       "<style scoped>\n",
       "    .dataframe tbody tr th:only-of-type {\n",
       "        vertical-align: middle;\n",
       "    }\n",
       "\n",
       "    .dataframe tbody tr th {\n",
       "        vertical-align: top;\n",
       "    }\n",
       "\n",
       "    .dataframe thead th {\n",
       "        text-align: right;\n",
       "    }\n",
       "</style>\n",
       "<table border=\"1\" class=\"dataframe\">\n",
       "  <thead>\n",
       "    <tr style=\"text-align: right;\">\n",
       "      <th></th>\n",
       "      <th>Cidade</th>\n",
       "      <th>Temperatura</th>\n",
       "      <th>Umidade</th>\n",
       "      <th>Chuva</th>\n",
       "      <th>Vento</th>\n",
       "      <th>Temperatua</th>\n",
       "    </tr>\n",
       "  </thead>\n",
       "  <tbody>\n",
       "  </tbody>\n",
       "</table>\n",
       "</div>"
      ],
      "text/plain": [
       "Empty DataFrame\n",
       "Columns: [Cidade, Temperatura, Umidade, Chuva, Vento, Temperatua]\n",
       "Index: []"
      ]
     },
     "execution_count": 36,
     "metadata": {},
     "output_type": "execute_result"
    }
   ],
   "source": [
    "# Conferindo\n",
    "dataset.loc[(dataset[\"Umidade\"] < 0)|(dataset[\"Umidade\"] > 100)]"
   ]
  },
  {
   "cell_type": "code",
   "execution_count": 39,
   "id": "ee30ae65",
   "metadata": {},
   "outputs": [],
   "source": [
    "# Colocando a mediana nos valores vazios\n",
    "dataset.fillna({\"Umidade\": mediana}, inplace=True)"
   ]
  },
  {
   "cell_type": "markdown",
   "id": "a901230b",
   "metadata": {},
   "source": [
    "# VENTO"
   ]
  },
  {
   "cell_type": "code",
   "execution_count": 37,
   "id": "95fae391",
   "metadata": {},
   "outputs": [
    {
     "data": {
      "text/plain": [
       "Vento\n",
       "Fraco       1\n",
       "MENOS       1\n",
       "Moderado    1\n",
       "fort        1\n",
       "forte       2\n",
       "fraco       2\n",
       "moderado    3\n",
       "dtype: int64"
      ]
     },
     "execution_count": 37,
     "metadata": {},
     "output_type": "execute_result"
    }
   ],
   "source": [
    "# Verificando os grupos \n",
    "agrupado = dataset.groupby([\"Vento\"]).size()\n",
    "agrupado"
   ]
  },
  {
   "cell_type": "markdown",
   "id": "a207783f",
   "metadata": {},
   "source": [
    "Pontuações:\n",
    "- Categorias discrepantes"
   ]
  },
  {
   "cell_type": "code",
   "execution_count": 43,
   "id": "ddb184d7",
   "metadata": {},
   "outputs": [],
   "source": [
    "# Padronizando as categorias\n",
    "dataset.loc[dataset[\"Vento\"].isin(['moderado','Moderado']), \"Vento\"] = \"MODERADO\".upper()"
   ]
  },
  {
   "cell_type": "code",
   "execution_count": 44,
   "id": "2dc63d5e",
   "metadata": {},
   "outputs": [],
   "source": [
    "dataset.loc[dataset[\"Vento\"].isin(['fraco','Fraco']), \"Vento\"] = 'FRACO'.upper()"
   ]
  },
  {
   "cell_type": "code",
   "execution_count": 45,
   "id": "79a9c7b4",
   "metadata": {},
   "outputs": [],
   "source": [
    "dataset.loc[dataset[\"Vento\"].isin(['fort','forte']), \"Vento\"] = 'FORTE'.upper()"
   ]
  },
  {
   "cell_type": "code",
   "execution_count": null,
   "id": "93cf3fc9",
   "metadata": {},
   "outputs": [
    {
     "data": {
      "text/plain": [
       "Vento\n",
       "FORTE       3\n",
       "FRACO       3\n",
       "MENOS       1\n",
       "MODERADO    4\n",
       "dtype: int64"
      ]
     },
     "execution_count": 47,
     "metadata": {},
     "output_type": "execute_result"
    }
   ],
   "source": [
    "# Verificando agrupado agora\n",
    "agrupado = dataset.groupby([\"Vento\"]).size()\n",
    "agrupado"
   ]
  },
  {
   "cell_type": "code",
   "execution_count": 49,
   "id": "a7cdde66",
   "metadata": {},
   "outputs": [
    {
     "data": {
      "text/plain": [
       "'MODERADO'"
      ]
     },
     "execution_count": 49,
     "metadata": {},
     "output_type": "execute_result"
    }
   ],
   "source": [
    "# Pegando a moda\n",
    "moda = sts.mode(dataset[\"Vento\"]) \n",
    "moda"
   ]
  },
  {
   "cell_type": "code",
   "execution_count": 50,
   "id": "7e55b574",
   "metadata": {},
   "outputs": [],
   "source": [
    "# Substituindo menos pela moda\n",
    "dataset.loc[dataset[\"Vento\"] == 'MENOS', \"Vento\"] = moda"
   ]
  },
  {
   "cell_type": "code",
   "execution_count": null,
   "id": "63f89bb5",
   "metadata": {},
   "outputs": [
    {
     "data": {
      "text/plain": [
       "Vento\n",
       "FORTE       3\n",
       "FRACO       3\n",
       "MODERADO    5\n",
       "dtype: int64"
      ]
     },
     "execution_count": 52,
     "metadata": {},
     "output_type": "execute_result"
    }
   ],
   "source": [
    "# Ultima verificação dos grupos\n",
    "agrupado = dataset.groupby([\"Vento\"]).size()\n",
    "agrupado"
   ]
  },
  {
   "cell_type": "code",
   "execution_count": 55,
   "id": "1911d792",
   "metadata": {},
   "outputs": [
    {
     "data": {
      "text/plain": [
       "1"
      ]
     },
     "execution_count": 55,
     "metadata": {},
     "output_type": "execute_result"
    }
   ],
   "source": [
    "# Verificando os valores NaN\n",
    "dataset[\"Vento\"].isnull().sum()"
   ]
  },
  {
   "cell_type": "code",
   "execution_count": 57,
   "id": "8280b1fb",
   "metadata": {},
   "outputs": [],
   "source": [
    "#Substituindo NaN pela moda\n",
    "dataset.fillna({\"Vento\":moda}, inplace=True)"
   ]
  },
  {
   "cell_type": "code",
   "execution_count": 53,
   "id": "6644d30b",
   "metadata": {},
   "outputs": [
    {
     "data": {
      "text/html": [
       "<div>\n",
       "<style scoped>\n",
       "    .dataframe tbody tr th:only-of-type {\n",
       "        vertical-align: middle;\n",
       "    }\n",
       "\n",
       "    .dataframe tbody tr th {\n",
       "        vertical-align: top;\n",
       "    }\n",
       "\n",
       "    .dataframe thead th {\n",
       "        text-align: right;\n",
       "    }\n",
       "</style>\n",
       "<table border=\"1\" class=\"dataframe\">\n",
       "  <thead>\n",
       "    <tr style=\"text-align: right;\">\n",
       "      <th></th>\n",
       "      <th>Cidade</th>\n",
       "      <th>Temperatura</th>\n",
       "      <th>Umidade</th>\n",
       "      <th>Chuva</th>\n",
       "      <th>Vento</th>\n",
       "      <th>Temperatua</th>\n",
       "    </tr>\n",
       "  </thead>\n",
       "  <tbody>\n",
       "    <tr>\n",
       "      <th>0</th>\n",
       "      <td>São Paulo</td>\n",
       "      <td>25.0</td>\n",
       "      <td>80.0</td>\n",
       "      <td>sim</td>\n",
       "      <td>FORTE</td>\n",
       "      <td>NaN</td>\n",
       "    </tr>\n",
       "    <tr>\n",
       "      <th>1</th>\n",
       "      <td>Rio</td>\n",
       "      <td>25.5</td>\n",
       "      <td>50.0</td>\n",
       "      <td>nao</td>\n",
       "      <td>FRACO</td>\n",
       "      <td>25.5</td>\n",
       "    </tr>\n",
       "    <tr>\n",
       "      <th>2</th>\n",
       "      <td>BH</td>\n",
       "      <td>22.0</td>\n",
       "      <td>82.5</td>\n",
       "      <td>sim</td>\n",
       "      <td>NaN</td>\n",
       "      <td>NaN</td>\n",
       "    </tr>\n",
       "    <tr>\n",
       "      <th>3</th>\n",
       "      <td>Curitiba</td>\n",
       "      <td>18.0</td>\n",
       "      <td>90.0</td>\n",
       "      <td>menos</td>\n",
       "      <td>MODERADO</td>\n",
       "      <td>NaN</td>\n",
       "    </tr>\n",
       "    <tr>\n",
       "      <th>4</th>\n",
       "      <td>Recife</td>\n",
       "      <td>30.0</td>\n",
       "      <td>82.5</td>\n",
       "      <td>não</td>\n",
       "      <td>FORTE</td>\n",
       "      <td>NaN</td>\n",
       "    </tr>\n",
       "  </tbody>\n",
       "</table>\n",
       "</div>"
      ],
      "text/plain": [
       "      Cidade  Temperatura  Umidade  Chuva     Vento  Temperatua\n",
       "0  São Paulo         25.0     80.0    sim     FORTE         NaN\n",
       "1        Rio         25.5     50.0    nao     FRACO        25.5\n",
       "2         BH         22.0     82.5    sim       NaN         NaN\n",
       "3   Curitiba         18.0     90.0  menos  MODERADO         NaN\n",
       "4     Recife         30.0     82.5    não     FORTE         NaN"
      ]
     },
     "execution_count": 53,
     "metadata": {},
     "output_type": "execute_result"
    }
   ],
   "source": [
    "# Trazendo head para baixo para ver melhor\n",
    "dataset.head()"
   ]
  },
  {
   "cell_type": "markdown",
   "id": "cf242224",
   "metadata": {},
   "source": [
    "- Deletando coluna criada sem querer"
   ]
  },
  {
   "cell_type": "code",
   "execution_count": null,
   "id": "b05cb45d",
   "metadata": {},
   "outputs": [
    {
     "ename": "KeyError",
     "evalue": "\"['Temperatua'] not found in axis\"",
     "output_type": "error",
     "traceback": [
      "\u001b[1;31m---------------------------------------------------------------------------\u001b[0m",
      "\u001b[1;31mKeyError\u001b[0m                                  Traceback (most recent call last)",
      "Cell \u001b[1;32mIn[59], line 1\u001b[0m\n\u001b[1;32m----> 1\u001b[0m dataset \u001b[38;5;241m=\u001b[39m dataset\u001b[38;5;241m.\u001b[39mdrop(columns\u001b[38;5;241m=\u001b[39m[\u001b[38;5;124m\"\u001b[39m\u001b[38;5;124mTemperatua\u001b[39m\u001b[38;5;124m\"\u001b[39m])\n",
      "File \u001b[1;32mc:\\ProgramData\\anaconda3\\Lib\\site-packages\\pandas\\core\\frame.py:5581\u001b[0m, in \u001b[0;36mDataFrame.drop\u001b[1;34m(self, labels, axis, index, columns, level, inplace, errors)\u001b[0m\n\u001b[0;32m   5433\u001b[0m \u001b[38;5;28;01mdef\u001b[39;00m \u001b[38;5;21mdrop\u001b[39m(\n\u001b[0;32m   5434\u001b[0m     \u001b[38;5;28mself\u001b[39m,\n\u001b[0;32m   5435\u001b[0m     labels: IndexLabel \u001b[38;5;241m|\u001b[39m \u001b[38;5;28;01mNone\u001b[39;00m \u001b[38;5;241m=\u001b[39m \u001b[38;5;28;01mNone\u001b[39;00m,\n\u001b[1;32m   (...)\u001b[0m\n\u001b[0;32m   5442\u001b[0m     errors: IgnoreRaise \u001b[38;5;241m=\u001b[39m \u001b[38;5;124m\"\u001b[39m\u001b[38;5;124mraise\u001b[39m\u001b[38;5;124m\"\u001b[39m,\n\u001b[0;32m   5443\u001b[0m ) \u001b[38;5;241m-\u001b[39m\u001b[38;5;241m>\u001b[39m DataFrame \u001b[38;5;241m|\u001b[39m \u001b[38;5;28;01mNone\u001b[39;00m:\n\u001b[0;32m   5444\u001b[0m \u001b[38;5;250m    \u001b[39m\u001b[38;5;124;03m\"\"\"\u001b[39;00m\n\u001b[0;32m   5445\u001b[0m \u001b[38;5;124;03m    Drop specified labels from rows or columns.\u001b[39;00m\n\u001b[0;32m   5446\u001b[0m \n\u001b[1;32m   (...)\u001b[0m\n\u001b[0;32m   5579\u001b[0m \u001b[38;5;124;03m            weight  1.0     0.8\u001b[39;00m\n\u001b[0;32m   5580\u001b[0m \u001b[38;5;124;03m    \"\"\"\u001b[39;00m\n\u001b[1;32m-> 5581\u001b[0m     \u001b[38;5;28;01mreturn\u001b[39;00m \u001b[38;5;28msuper\u001b[39m()\u001b[38;5;241m.\u001b[39mdrop(\n\u001b[0;32m   5582\u001b[0m         labels\u001b[38;5;241m=\u001b[39mlabels,\n\u001b[0;32m   5583\u001b[0m         axis\u001b[38;5;241m=\u001b[39maxis,\n\u001b[0;32m   5584\u001b[0m         index\u001b[38;5;241m=\u001b[39mindex,\n\u001b[0;32m   5585\u001b[0m         columns\u001b[38;5;241m=\u001b[39mcolumns,\n\u001b[0;32m   5586\u001b[0m         level\u001b[38;5;241m=\u001b[39mlevel,\n\u001b[0;32m   5587\u001b[0m         inplace\u001b[38;5;241m=\u001b[39minplace,\n\u001b[0;32m   5588\u001b[0m         errors\u001b[38;5;241m=\u001b[39merrors,\n\u001b[0;32m   5589\u001b[0m     )\n",
      "File \u001b[1;32mc:\\ProgramData\\anaconda3\\Lib\\site-packages\\pandas\\core\\generic.py:4788\u001b[0m, in \u001b[0;36mNDFrame.drop\u001b[1;34m(self, labels, axis, index, columns, level, inplace, errors)\u001b[0m\n\u001b[0;32m   4786\u001b[0m \u001b[38;5;28;01mfor\u001b[39;00m axis, labels \u001b[38;5;129;01min\u001b[39;00m axes\u001b[38;5;241m.\u001b[39mitems():\n\u001b[0;32m   4787\u001b[0m     \u001b[38;5;28;01mif\u001b[39;00m labels \u001b[38;5;129;01mis\u001b[39;00m \u001b[38;5;129;01mnot\u001b[39;00m \u001b[38;5;28;01mNone\u001b[39;00m:\n\u001b[1;32m-> 4788\u001b[0m         obj \u001b[38;5;241m=\u001b[39m obj\u001b[38;5;241m.\u001b[39m_drop_axis(labels, axis, level\u001b[38;5;241m=\u001b[39mlevel, errors\u001b[38;5;241m=\u001b[39merrors)\n\u001b[0;32m   4790\u001b[0m \u001b[38;5;28;01mif\u001b[39;00m inplace:\n\u001b[0;32m   4791\u001b[0m     \u001b[38;5;28mself\u001b[39m\u001b[38;5;241m.\u001b[39m_update_inplace(obj)\n",
      "File \u001b[1;32mc:\\ProgramData\\anaconda3\\Lib\\site-packages\\pandas\\core\\generic.py:4830\u001b[0m, in \u001b[0;36mNDFrame._drop_axis\u001b[1;34m(self, labels, axis, level, errors, only_slice)\u001b[0m\n\u001b[0;32m   4828\u001b[0m         new_axis \u001b[38;5;241m=\u001b[39m axis\u001b[38;5;241m.\u001b[39mdrop(labels, level\u001b[38;5;241m=\u001b[39mlevel, errors\u001b[38;5;241m=\u001b[39merrors)\n\u001b[0;32m   4829\u001b[0m     \u001b[38;5;28;01melse\u001b[39;00m:\n\u001b[1;32m-> 4830\u001b[0m         new_axis \u001b[38;5;241m=\u001b[39m axis\u001b[38;5;241m.\u001b[39mdrop(labels, errors\u001b[38;5;241m=\u001b[39merrors)\n\u001b[0;32m   4831\u001b[0m     indexer \u001b[38;5;241m=\u001b[39m axis\u001b[38;5;241m.\u001b[39mget_indexer(new_axis)\n\u001b[0;32m   4833\u001b[0m \u001b[38;5;66;03m# Case for non-unique axis\u001b[39;00m\n\u001b[0;32m   4834\u001b[0m \u001b[38;5;28;01melse\u001b[39;00m:\n",
      "File \u001b[1;32mc:\\ProgramData\\anaconda3\\Lib\\site-packages\\pandas\\core\\indexes\\base.py:7070\u001b[0m, in \u001b[0;36mIndex.drop\u001b[1;34m(self, labels, errors)\u001b[0m\n\u001b[0;32m   7068\u001b[0m \u001b[38;5;28;01mif\u001b[39;00m mask\u001b[38;5;241m.\u001b[39many():\n\u001b[0;32m   7069\u001b[0m     \u001b[38;5;28;01mif\u001b[39;00m errors \u001b[38;5;241m!=\u001b[39m \u001b[38;5;124m\"\u001b[39m\u001b[38;5;124mignore\u001b[39m\u001b[38;5;124m\"\u001b[39m:\n\u001b[1;32m-> 7070\u001b[0m         \u001b[38;5;28;01mraise\u001b[39;00m \u001b[38;5;167;01mKeyError\u001b[39;00m(\u001b[38;5;124mf\u001b[39m\u001b[38;5;124m\"\u001b[39m\u001b[38;5;132;01m{\u001b[39;00mlabels[mask]\u001b[38;5;241m.\u001b[39mtolist()\u001b[38;5;132;01m}\u001b[39;00m\u001b[38;5;124m not found in axis\u001b[39m\u001b[38;5;124m\"\u001b[39m)\n\u001b[0;32m   7071\u001b[0m     indexer \u001b[38;5;241m=\u001b[39m indexer[\u001b[38;5;241m~\u001b[39mmask]\n\u001b[0;32m   7072\u001b[0m \u001b[38;5;28;01mreturn\u001b[39;00m \u001b[38;5;28mself\u001b[39m\u001b[38;5;241m.\u001b[39mdelete(indexer)\n",
      "\u001b[1;31mKeyError\u001b[0m: \"['Temperatua'] not found in axis\""
     ]
    }
   ],
   "source": [
    "# Ignore\n",
    "dataset = dataset.drop(columns=[\"Temperatua\"])"
   ]
  },
  {
   "cell_type": "code",
   "execution_count": 61,
   "id": "7ac4c4ed",
   "metadata": {},
   "outputs": [
    {
     "data": {
      "text/html": [
       "<div>\n",
       "<style scoped>\n",
       "    .dataframe tbody tr th:only-of-type {\n",
       "        vertical-align: middle;\n",
       "    }\n",
       "\n",
       "    .dataframe tbody tr th {\n",
       "        vertical-align: top;\n",
       "    }\n",
       "\n",
       "    .dataframe thead th {\n",
       "        text-align: right;\n",
       "    }\n",
       "</style>\n",
       "<table border=\"1\" class=\"dataframe\">\n",
       "  <thead>\n",
       "    <tr style=\"text-align: right;\">\n",
       "      <th></th>\n",
       "      <th>Cidade</th>\n",
       "      <th>Temperatura</th>\n",
       "      <th>Umidade</th>\n",
       "      <th>Chuva</th>\n",
       "      <th>Vento</th>\n",
       "    </tr>\n",
       "  </thead>\n",
       "  <tbody>\n",
       "    <tr>\n",
       "      <th>0</th>\n",
       "      <td>São Paulo</td>\n",
       "      <td>25.0</td>\n",
       "      <td>80.0</td>\n",
       "      <td>sim</td>\n",
       "      <td>FORTE</td>\n",
       "    </tr>\n",
       "    <tr>\n",
       "      <th>1</th>\n",
       "      <td>Rio</td>\n",
       "      <td>25.5</td>\n",
       "      <td>50.0</td>\n",
       "      <td>nao</td>\n",
       "      <td>FRACO</td>\n",
       "    </tr>\n",
       "    <tr>\n",
       "      <th>2</th>\n",
       "      <td>BH</td>\n",
       "      <td>22.0</td>\n",
       "      <td>82.5</td>\n",
       "      <td>sim</td>\n",
       "      <td>MODERADO</td>\n",
       "    </tr>\n",
       "    <tr>\n",
       "      <th>3</th>\n",
       "      <td>Curitiba</td>\n",
       "      <td>18.0</td>\n",
       "      <td>90.0</td>\n",
       "      <td>menos</td>\n",
       "      <td>MODERADO</td>\n",
       "    </tr>\n",
       "    <tr>\n",
       "      <th>4</th>\n",
       "      <td>Recife</td>\n",
       "      <td>30.0</td>\n",
       "      <td>82.5</td>\n",
       "      <td>não</td>\n",
       "      <td>FORTE</td>\n",
       "    </tr>\n",
       "  </tbody>\n",
       "</table>\n",
       "</div>"
      ],
      "text/plain": [
       "      Cidade  Temperatura  Umidade  Chuva     Vento\n",
       "0  São Paulo         25.0     80.0    sim     FORTE\n",
       "1        Rio         25.5     50.0    nao     FRACO\n",
       "2         BH         22.0     82.5    sim  MODERADO\n",
       "3   Curitiba         18.0     90.0  menos  MODERADO\n",
       "4     Recife         30.0     82.5    não     FORTE"
      ]
     },
     "execution_count": 61,
     "metadata": {},
     "output_type": "execute_result"
    }
   ],
   "source": [
    "# Verificando se foi deletado\n",
    "dataset.head()"
   ]
  },
  {
   "cell_type": "markdown",
   "id": "8f0fdaaa",
   "metadata": {},
   "source": [
    "# Chuva"
   ]
  },
  {
   "cell_type": "code",
   "execution_count": 63,
   "id": "b5aaf7b3",
   "metadata": {},
   "outputs": [
    {
     "data": {
      "text/plain": [
       "Chuva\n",
       "N        1\n",
       "S        1\n",
       "Sim      1\n",
       "menos    2\n",
       "nao      2\n",
       "não      1\n",
       "sim      4\n",
       "dtype: int64"
      ]
     },
     "execution_count": 63,
     "metadata": {},
     "output_type": "execute_result"
    }
   ],
   "source": [
    "# Verificando as categorias\n",
    "agrupado = dataset.groupby([\"Chuva\"]).size()\n",
    "agrupado"
   ]
  },
  {
   "cell_type": "markdown",
   "id": "87817337",
   "metadata": {},
   "source": [
    "- Padronizar itens"
   ]
  },
  {
   "cell_type": "code",
   "execution_count": 64,
   "id": "a6fcab3c",
   "metadata": {},
   "outputs": [],
   "source": [
    "# Padronizando itens\n",
    "dataset.loc[dataset[\"Chuva\"].isin(['N', 'nao', 'não']), \"Chuva\"] = \"NÃO\".upper()"
   ]
  },
  {
   "cell_type": "code",
   "execution_count": 65,
   "id": "b1eddd18",
   "metadata": {},
   "outputs": [],
   "source": [
    "dataset.loc[dataset[\"Chuva\"].isin(['S','Sim','sim']), \"Chuva\"] = 'SIM'.upper()"
   ]
  },
  {
   "cell_type": "code",
   "execution_count": 67,
   "id": "95a3225f",
   "metadata": {},
   "outputs": [
    {
     "data": {
      "text/plain": [
       "Chuva\n",
       "NÃO      4\n",
       "SIM      6\n",
       "menos    2\n",
       "dtype: int64"
      ]
     },
     "execution_count": 67,
     "metadata": {},
     "output_type": "execute_result"
    }
   ],
   "source": [
    "# Verificando os grupos\n",
    "agrupado = dataset.groupby([\"Chuva\"]).size()\n",
    "agrupado"
   ]
  },
  {
   "cell_type": "code",
   "execution_count": 69,
   "id": "20f37890",
   "metadata": {},
   "outputs": [
    {
     "data": {
      "text/plain": [
       "'SIM'"
      ]
     },
     "execution_count": 69,
     "metadata": {},
     "output_type": "execute_result"
    }
   ],
   "source": [
    "# Substituindo o 'menos' pela moda\n",
    "# Pegando moda\n",
    "moda = sts.mode(dataset['Chuva'])\n",
    "moda"
   ]
  },
  {
   "cell_type": "code",
   "execution_count": 71,
   "id": "b425cee5",
   "metadata": {},
   "outputs": [],
   "source": [
    "# Substituindo \n",
    "dataset.loc[dataset['Chuva'] == 'menos', \"Chuva\"] = moda"
   ]
  },
  {
   "cell_type": "code",
   "execution_count": 73,
   "id": "de4f54e4",
   "metadata": {},
   "outputs": [
    {
     "data": {
      "text/plain": [
       "Chuva\n",
       "NÃO    4\n",
       "SIM    8\n",
       "dtype: int64"
      ]
     },
     "execution_count": 73,
     "metadata": {},
     "output_type": "execute_result"
    }
   ],
   "source": [
    "# Verificando os grupos\n",
    "agrupado = dataset.groupby([\"Chuva\"]).size()\n",
    "agrupado"
   ]
  },
  {
   "cell_type": "code",
   "execution_count": 74,
   "id": "a87319e1",
   "metadata": {},
   "outputs": [
    {
     "data": {
      "text/plain": [
       "0"
      ]
     },
     "execution_count": 74,
     "metadata": {},
     "output_type": "execute_result"
    }
   ],
   "source": [
    "# analizando se tem valores nulos\n",
    "dataset[\"Chuva\"].isnull().sum()"
   ]
  }
 ],
 "metadata": {
  "kernelspec": {
   "display_name": "base",
   "language": "python",
   "name": "python3"
  },
  "language_info": {
   "codemirror_mode": {
    "name": "ipython",
    "version": 3
   },
   "file_extension": ".py",
   "mimetype": "text/x-python",
   "name": "python",
   "nbconvert_exporter": "python",
   "pygments_lexer": "ipython3",
   "version": "3.12.7"
  }
 },
 "nbformat": 4,
 "nbformat_minor": 5
}
