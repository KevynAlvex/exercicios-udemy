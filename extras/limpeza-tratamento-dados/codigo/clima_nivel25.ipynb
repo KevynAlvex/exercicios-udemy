{
 "cells": [
  {
   "cell_type": "code",
   "execution_count": 1,
   "id": "ae671fc7",
   "metadata": {},
   "outputs": [],
   "source": [
    "# Importando bibliotecas\n",
    "import pandas as pd\n",
    "import statistics as sts\n",
    "import seaborn as sns"
   ]
  },
  {
   "cell_type": "code",
   "execution_count": 3,
   "id": "acb50f1b",
   "metadata": {},
   "outputs": [
    {
     "data": {
      "text/html": [
       "<div>\n",
       "<style scoped>\n",
       "    .dataframe tbody tr th:only-of-type {\n",
       "        vertical-align: middle;\n",
       "    }\n",
       "\n",
       "    .dataframe tbody tr th {\n",
       "        vertical-align: top;\n",
       "    }\n",
       "\n",
       "    .dataframe thead th {\n",
       "        text-align: right;\n",
       "    }\n",
       "</style>\n",
       "<table border=\"1\" class=\"dataframe\">\n",
       "  <thead>\n",
       "    <tr style=\"text-align: right;\">\n",
       "      <th></th>\n",
       "      <th>Cidade</th>\n",
       "      <th>Temperatura</th>\n",
       "      <th>Umidade</th>\n",
       "      <th>Chuva</th>\n",
       "      <th>Vento</th>\n",
       "    </tr>\n",
       "  </thead>\n",
       "  <tbody>\n",
       "    <tr>\n",
       "      <th>0</th>\n",
       "      <td>São Paulo</td>\n",
       "      <td>25</td>\n",
       "      <td>80.0</td>\n",
       "      <td>sim</td>\n",
       "      <td>forte</td>\n",
       "    </tr>\n",
       "    <tr>\n",
       "      <th>1</th>\n",
       "      <td>Rio</td>\n",
       "      <td>200</td>\n",
       "      <td>50.0</td>\n",
       "      <td>não</td>\n",
       "      <td>fraco</td>\n",
       "    </tr>\n",
       "    <tr>\n",
       "      <th>2</th>\n",
       "      <td>BH</td>\n",
       "      <td>22</td>\n",
       "      <td>-10.0</td>\n",
       "      <td>choveu</td>\n",
       "      <td>NaN</td>\n",
       "    </tr>\n",
       "    <tr>\n",
       "      <th>3</th>\n",
       "      <td>Curitiba</td>\n",
       "      <td>18</td>\n",
       "      <td>90.0</td>\n",
       "      <td>seco</td>\n",
       "      <td>moderado</td>\n",
       "    </tr>\n",
       "    <tr>\n",
       "      <th>4</th>\n",
       "      <td>Recife</td>\n",
       "      <td>30</td>\n",
       "      <td>105.0</td>\n",
       "      <td>não</td>\n",
       "      <td>F</td>\n",
       "    </tr>\n",
       "  </tbody>\n",
       "</table>\n",
       "</div>"
      ],
      "text/plain": [
       "      Cidade  Temperatura  Umidade   Chuva     Vento\n",
       "0  São Paulo           25     80.0     sim     forte\n",
       "1        Rio          200     50.0     não     fraco\n",
       "2         BH           22    -10.0  choveu       NaN\n",
       "3   Curitiba           18     90.0    seco  moderado\n",
       "4     Recife           30    105.0     não         F"
      ]
     },
     "execution_count": 3,
     "metadata": {},
     "output_type": "execute_result"
    }
   ],
   "source": [
    "# Importando dados\n",
    "dataset = pd.read_csv('../csv/clima_nivel25.csv')\n",
    "\n",
    "# Vendo head\n",
    "dataset.head()"
   ]
  },
  {
   "cell_type": "markdown",
   "id": "e30c28c2",
   "metadata": {},
   "source": [
    "### Duplicatas"
   ]
  },
  {
   "cell_type": "code",
   "execution_count": 6,
   "id": "c5a4511d",
   "metadata": {},
   "outputs": [
    {
     "data": {
      "text/plain": [
       "2"
      ]
     },
     "execution_count": 6,
     "metadata": {},
     "output_type": "execute_result"
    }
   ],
   "source": [
    "# Verificando se existem Cidades duplicadas\n",
    "dataset.duplicated(subset=[\"Cidade\"]).sum()"
   ]
  },
  {
   "cell_type": "code",
   "execution_count": null,
   "id": "bcafd1e2",
   "metadata": {},
   "outputs": [],
   "source": [
    "# Dropando valore duplicado e mantendo o primeiro\n",
    "dataset.drop_duplicates(subset=[\"Cidade\"], keep=\"first\", inplace=True)"
   ]
  },
  {
   "cell_type": "markdown",
   "id": "2cc3490a",
   "metadata": {},
   "source": [
    "### Temperaturas"
   ]
  },
  {
   "cell_type": "code",
   "execution_count": 11,
   "id": "85660806",
   "metadata": {},
   "outputs": [
    {
     "data": {
      "text/plain": [
       "Text(0.5, 1.0, 'Temperatura')"
      ]
     },
     "execution_count": 11,
     "metadata": {},
     "output_type": "execute_result"
    },
    {
     "data": {
      "image/png": "[encoded data removed]",
      "text/plain": [
       "<Figure size 640x480 with 1 Axes>"
      ]
     },
     "metadata": {},
     "output_type": "display_data"
    }
   ],
   "source": [
    "# Criando boxplot para analisar\n",
    "sns.boxplot(dataset[\"Temperatura\"]).set_title(\"Temperatura\")"
   ]
  },
  {
   "cell_type": "code",
   "execution_count": 13,
   "id": "4c3f8160",
   "metadata": {},
   "outputs": [
    {
     "data": {
      "text/html": [
       "<div>\n",
       "<style scoped>\n",
       "    .dataframe tbody tr th:only-of-type {\n",
       "        vertical-align: middle;\n",
       "    }\n",
       "\n",
       "    .dataframe tbody tr th {\n",
       "        vertical-align: top;\n",
       "    }\n",
       "\n",
       "    .dataframe thead th {\n",
       "        text-align: right;\n",
       "    }\n",
       "</style>\n",
       "<table border=\"1\" class=\"dataframe\">\n",
       "  <thead>\n",
       "    <tr style=\"text-align: right;\">\n",
       "      <th></th>\n",
       "      <th>Cidade</th>\n",
       "      <th>Temperatura</th>\n",
       "      <th>Umidade</th>\n",
       "      <th>Chuva</th>\n",
       "      <th>Vento</th>\n",
       "    </tr>\n",
       "  </thead>\n",
       "  <tbody>\n",
       "    <tr>\n",
       "      <th>1</th>\n",
       "      <td>Rio</td>\n",
       "      <td>200</td>\n",
       "      <td>50.0</td>\n",
       "      <td>não</td>\n",
       "      <td>fraco</td>\n",
       "    </tr>\n",
       "    <tr>\n",
       "      <th>5</th>\n",
       "      <td>Salvador</td>\n",
       "      <td>-100</td>\n",
       "      <td>70.0</td>\n",
       "      <td>sim</td>\n",
       "      <td>m</td>\n",
       "    </tr>\n",
       "    <tr>\n",
       "      <th>10</th>\n",
       "      <td>Goiânia</td>\n",
       "      <td>400</td>\n",
       "      <td>30.0</td>\n",
       "      <td>Sim</td>\n",
       "      <td>fraco</td>\n",
       "    </tr>\n",
       "  </tbody>\n",
       "</table>\n",
       "</div>"
      ],
      "text/plain": [
       "      Cidade  Temperatura  Umidade Chuva  Vento\n",
       "1        Rio          200     50.0   não  fraco\n",
       "5   Salvador         -100     70.0   sim      m\n",
       "10   Goiânia          400     30.0   Sim  fraco"
      ]
     },
     "execution_count": 13,
     "metadata": {},
     "output_type": "execute_result"
    }
   ],
   "source": [
    "# Vendo as temperaturas que estão fora do padrão\n",
    "dataset.loc[(dataset[\"Temperatura\"] < -5)|(dataset[\"Temperatura\"] > 35)]"
   ]
  },
  {
   "cell_type": "markdown",
   "id": "2de4a6a3",
   "metadata": {},
   "source": [
    "- Temperaturas absurdas para o clima do Brasil\n",
    "- Substituir pela mediana"
   ]
  },
  {
   "cell_type": "code",
   "execution_count": 14,
   "id": "675b4cb5",
   "metadata": {},
   "outputs": [
    {
     "data": {
      "text/plain": [
       "25.5"
      ]
     },
     "execution_count": 14,
     "metadata": {},
     "output_type": "execute_result"
    }
   ],
   "source": [
    "# Pegando a mediana das temperaturas\n",
    "mediana = sts.median(dataset[\"Temperatura\"])\n",
    "mediana"
   ]
  },
  {
   "cell_type": "code",
   "execution_count": 16,
   "id": "b2ec98ec",
   "metadata": {},
   "outputs": [],
   "source": [
    "# Substituindo temperaturas pela mediana\n",
    "dataset.loc[(dataset[\"Temperatura\"] < -5)|(dataset[\"Temperatura\"] > 35), \"Temperatura\"] = mediana"
   ]
  },
  {
   "cell_type": "code",
   "execution_count": 18,
   "id": "3f93bfab",
   "metadata": {},
   "outputs": [
    {
     "data": {
      "text/html": [
       "<div>\n",
       "<style scoped>\n",
       "    .dataframe tbody tr th:only-of-type {\n",
       "        vertical-align: middle;\n",
       "    }\n",
       "\n",
       "    .dataframe tbody tr th {\n",
       "        vertical-align: top;\n",
       "    }\n",
       "\n",
       "    .dataframe thead th {\n",
       "        text-align: right;\n",
       "    }\n",
       "</style>\n",
       "<table border=\"1\" class=\"dataframe\">\n",
       "  <thead>\n",
       "    <tr style=\"text-align: right;\">\n",
       "      <th></th>\n",
       "      <th>Cidade</th>\n",
       "      <th>Temperatura</th>\n",
       "      <th>Umidade</th>\n",
       "      <th>Chuva</th>\n",
       "      <th>Vento</th>\n",
       "    </tr>\n",
       "  </thead>\n",
       "  <tbody>\n",
       "  </tbody>\n",
       "</table>\n",
       "</div>"
      ],
      "text/plain": [
       "Empty DataFrame\n",
       "Columns: [Cidade, Temperatura, Umidade, Chuva, Vento]\n",
       "Index: []"
      ]
     },
     "execution_count": 18,
     "metadata": {},
     "output_type": "execute_result"
    }
   ],
   "source": [
    "# Conferindo se os valores foram trocados\n",
    "dataset.loc[(dataset[\"Temperatura\"] < -5)|(dataset[\"Temperatura\"] > 35)]"
   ]
  },
  {
   "cell_type": "markdown",
   "id": "e0c0c4ec",
   "metadata": {},
   "source": [
    "### Umidade"
   ]
  },
  {
   "cell_type": "code",
   "execution_count": 21,
   "id": "0374a728",
   "metadata": {},
   "outputs": [
    {
     "data": {
      "text/plain": [
       "Text(0.5, 1.0, 'Umidade')"
      ]
     },
     "execution_count": 21,
     "metadata": {},
     "output_type": "execute_result"
    },
    {
     "data": {
      "image/png": "[encoded data removed]",
      "text/plain": [
       "<Figure size 640x480 with 1 Axes>"
      ]
     },
     "metadata": {},
     "output_type": "display_data"
    }
   ],
   "source": [
    "# Gerando um gráfico em barras para ver tem valores acima de 100 ou menores que 0\n",
    "sns.boxplot(dataset[\"Umidade\"]).set_title(\"Umidade\")"
   ]
  },
  {
   "cell_type": "code",
   "execution_count": 22,
   "id": "1e5714fb",
   "metadata": {},
   "outputs": [
    {
     "data": {
      "text/html": [
       "<div>\n",
       "<style scoped>\n",
       "    .dataframe tbody tr th:only-of-type {\n",
       "        vertical-align: middle;\n",
       "    }\n",
       "\n",
       "    .dataframe tbody tr th {\n",
       "        vertical-align: top;\n",
       "    }\n",
       "\n",
       "    .dataframe thead th {\n",
       "        text-align: right;\n",
       "    }\n",
       "</style>\n",
       "<table border=\"1\" class=\"dataframe\">\n",
       "  <thead>\n",
       "    <tr style=\"text-align: right;\">\n",
       "      <th></th>\n",
       "      <th>Cidade</th>\n",
       "      <th>Temperatura</th>\n",
       "      <th>Umidade</th>\n",
       "      <th>Chuva</th>\n",
       "      <th>Vento</th>\n",
       "    </tr>\n",
       "  </thead>\n",
       "  <tbody>\n",
       "    <tr>\n",
       "      <th>2</th>\n",
       "      <td>BH</td>\n",
       "      <td>22.0</td>\n",
       "      <td>-10.0</td>\n",
       "      <td>choveu</td>\n",
       "      <td>NaN</td>\n",
       "    </tr>\n",
       "    <tr>\n",
       "      <th>4</th>\n",
       "      <td>Recife</td>\n",
       "      <td>30.0</td>\n",
       "      <td>105.0</td>\n",
       "      <td>não</td>\n",
       "      <td>F</td>\n",
       "    </tr>\n",
       "    <tr>\n",
       "      <th>11</th>\n",
       "      <td>Natal</td>\n",
       "      <td>26.0</td>\n",
       "      <td>200.0</td>\n",
       "      <td>não</td>\n",
       "      <td>Moderado</td>\n",
       "    </tr>\n",
       "  </tbody>\n",
       "</table>\n",
       "</div>"
      ],
      "text/plain": [
       "    Cidade  Temperatura  Umidade   Chuva     Vento\n",
       "2       BH         22.0    -10.0  choveu       NaN\n",
       "4   Recife         30.0    105.0     não         F\n",
       "11   Natal         26.0    200.0     não  Moderado"
      ]
     },
     "execution_count": 22,
     "metadata": {},
     "output_type": "execute_result"
    }
   ],
   "source": [
    "# Analisando os valores fora de indice\n",
    "dataset.loc[(dataset[\"Umidade\"] < 0)|(dataset[\"Umidade\"] > 100)]"
   ]
  },
  {
   "cell_type": "markdown",
   "id": "40e0504b",
   "metadata": {},
   "source": [
    "- Valores fora de indice\n",
    "- Corrigir valores substituindo pela mediana"
   ]
  },
  {
   "cell_type": "code",
   "execution_count": 25,
   "id": "4eccb982",
   "metadata": {},
   "outputs": [
    {
     "data": {
      "text/plain": [
       "82.5"
      ]
     },
     "execution_count": 25,
     "metadata": {},
     "output_type": "execute_result"
    }
   ],
   "source": [
    "# Pegando a mediana dos valores\n",
    "mediana = sts.median(dataset[\"Umidade\"])\n",
    "mediana"
   ]
  },
  {
   "cell_type": "code",
   "execution_count": 26,
   "id": "f2185e18",
   "metadata": {},
   "outputs": [],
   "source": [
    "# Substituindo\n",
    "dataset.loc[(dataset[\"Umidade\"] < 0)|(dataset[\"Umidade\"] > 100), \"Umidade\"] = mediana"
   ]
  },
  {
   "cell_type": "code",
   "execution_count": 28,
   "id": "17c451ef",
   "metadata": {},
   "outputs": [
    {
     "data": {
      "text/html": [
       "<div>\n",
       "<style scoped>\n",
       "    .dataframe tbody tr th:only-of-type {\n",
       "        vertical-align: middle;\n",
       "    }\n",
       "\n",
       "    .dataframe tbody tr th {\n",
       "        vertical-align: top;\n",
       "    }\n",
       "\n",
       "    .dataframe thead th {\n",
       "        text-align: right;\n",
       "    }\n",
       "</style>\n",
       "<table border=\"1\" class=\"dataframe\">\n",
       "  <thead>\n",
       "    <tr style=\"text-align: right;\">\n",
       "      <th></th>\n",
       "      <th>Cidade</th>\n",
       "      <th>Temperatura</th>\n",
       "      <th>Umidade</th>\n",
       "      <th>Chuva</th>\n",
       "      <th>Vento</th>\n",
       "    </tr>\n",
       "  </thead>\n",
       "  <tbody>\n",
       "  </tbody>\n",
       "</table>\n",
       "</div>"
      ],
      "text/plain": [
       "Empty DataFrame\n",
       "Columns: [Cidade, Temperatura, Umidade, Chuva, Vento]\n",
       "Index: []"
      ]
     },
     "execution_count": 28,
     "metadata": {},
     "output_type": "execute_result"
    }
   ],
   "source": [
    "# Conferindo\n",
    "dataset.loc[(dataset[\"Umidade\"] < 0)|(dataset[\"Umidade\"] > 100)]"
   ]
  },
  {
   "cell_type": "markdown",
   "id": "29237f47",
   "metadata": {},
   "source": [
    "### Chuva"
   ]
  },
  {
   "cell_type": "code",
   "execution_count": null,
   "id": "2d56bb5e",
   "metadata": {},
   "outputs": [
    {
     "data": {
      "text/plain": [
       "Text(0.5, 1.0, 'Chuva')"
      ]
     },
     "execution_count": 29,
     "metadata": {},
     "output_type": "execute_result"
    },
    {
     "data": {
      "image/png": "[encoded data removed]",
      "text/plain": [
       "<Figure size 640x480 with 1 Axes>"
      ]
     },
     "metadata": {},
     "output_type": "display_data"
    }
   ],
   "source": [
    "# Criando um countplot para analisar os dados\n",
    "sns.countplot(dataset[\"Chuva\"]).set_title(\"Chuva\")"
   ]
  },
  {
   "cell_type": "markdown",
   "id": "7d8ed374",
   "metadata": {},
   "source": [
    "- Existem mais tipos de grupos além de Sim ou Não"
   ]
  },
  {
   "cell_type": "code",
   "execution_count": 32,
   "id": "7a19dd36",
   "metadata": {},
   "outputs": [
    {
     "data": {
      "text/plain": [
       "Chuva\n",
       "Nao       1\n",
       "Sim       2\n",
       "choveu    2\n",
       "não       3\n",
       "seco      2\n",
       "sim       2\n",
       "dtype: int64"
      ]
     },
     "execution_count": 32,
     "metadata": {},
     "output_type": "execute_result"
    }
   ],
   "source": [
    "# Vendo os grupos\n",
    "agrupado = dataset.groupby([\"Chuva\"]).size()\n",
    "agrupado"
   ]
  },
  {
   "cell_type": "code",
   "execution_count": 33,
   "id": "56cd29bb",
   "metadata": {},
   "outputs": [],
   "source": [
    "# Padronizando os grupos\n",
    "dataset.loc[dataset[\"Chuva\"].isin([\"Nao\",\"não\"]), \"Chuva\"] = \"Não\"\n",
    "dataset.loc[dataset[\"Chuva\"].isin([\"sim\"]), \"Chuva\"] = \"Sim\""
   ]
  },
  {
   "cell_type": "code",
   "execution_count": 35,
   "id": "85986ec1",
   "metadata": {},
   "outputs": [
    {
     "data": {
      "text/plain": [
       "'Sim'"
      ]
     },
     "execution_count": 35,
     "metadata": {},
     "output_type": "execute_result"
    }
   ],
   "source": [
    "# Pegando a moda para trocar os grupos\n",
    "moda = sts.mode(dataset[\"Chuva\"])\n",
    "moda"
   ]
  },
  {
   "cell_type": "code",
   "execution_count": 38,
   "id": "f9a8a88b",
   "metadata": {},
   "outputs": [],
   "source": [
    "# Preenchendo grupos errados com a moda\n",
    "dataset.loc[dataset[\"Chuva\"].isin([\"choveu\", \"seco\"]), \"Chuva\"] = moda"
   ]
  },
  {
   "cell_type": "markdown",
   "id": "7cc147e6",
   "metadata": {},
   "source": [
    "### Vendo se tem valores nulos (esqueci)"
   ]
  },
  {
   "cell_type": "code",
   "execution_count": 39,
   "id": "099d084a",
   "metadata": {},
   "outputs": [
    {
     "data": {
      "text/plain": [
       "Cidade         0\n",
       "Temperatura    0\n",
       "Umidade        1\n",
       "Chuva          0\n",
       "Vento          1\n",
       "dtype: int64"
      ]
     },
     "execution_count": 39,
     "metadata": {},
     "output_type": "execute_result"
    }
   ],
   "source": [
    "dataset.isnull().sum()"
   ]
  },
  {
   "cell_type": "code",
   "execution_count": 41,
   "id": "4563a1ee",
   "metadata": {},
   "outputs": [
    {
     "data": {
      "text/plain": [
       "82.5"
      ]
     },
     "execution_count": 41,
     "metadata": {},
     "output_type": "execute_result"
    }
   ],
   "source": [
    "# Pegando a mediana da Umidade e trocando o valor nulo\n",
    "mediana = sts.median(dataset[\"Umidade\"])\n",
    "mediana"
   ]
  },
  {
   "cell_type": "code",
   "execution_count": 44,
   "id": "92e0f6f9",
   "metadata": {},
   "outputs": [],
   "source": [
    "# Substituindo valor nulo\n",
    "dataset.fillna({\"Umidade\":mediana}, inplace=True)"
   ]
  },
  {
   "cell_type": "markdown",
   "id": "a19fd47e",
   "metadata": {},
   "source": [
    "### Vento"
   ]
  },
  {
   "cell_type": "code",
   "execution_count": 45,
   "id": "f3f29174",
   "metadata": {},
   "outputs": [
    {
     "data": {
      "text/plain": [
       "Text(0.5, 1.0, 'Vento')"
      ]
     },
     "execution_count": 45,
     "metadata": {},
     "output_type": "execute_result"
    },
    {
     "data": {
      "image/png": "[encoded data removed]",
      "text/plain": [
       "<Figure size 640x480 with 1 Axes>"
      ]
     },
     "metadata": {},
     "output_type": "display_data"
    }
   ],
   "source": [
    "# Montando um countplot para o \"Vento\"\n",
    "sns.countplot(dataset[\"Vento\"]).set_title(\"Vento\")"
   ]
  },
  {
   "cell_type": "markdown",
   "id": "f62e4ecc",
   "metadata": {},
   "source": [
    "Grupos sem padronização, padronizar grupos\n"
   ]
  },
  {
   "cell_type": "code",
   "execution_count": 47,
   "id": "fc3fe0b2",
   "metadata": {},
   "outputs": [],
   "source": [
    "# Padronizando\n",
    "dataset.loc[dataset[\"Vento\"].isin([\"forte\",\"F\",\"fort\"]), \"Vento\"] = \"Forte\"\n",
    "dataset.loc[dataset[\"Vento\"].isin([\"moderado\",\"m\"]), \"Vento\"] = \"Moderado\"\n",
    "dataset.loc[dataset[\"Vento\"] == \"fraco\", \"Vento\"] = \"Fraco\""
   ]
  },
  {
   "cell_type": "code",
   "execution_count": 49,
   "id": "5756a845",
   "metadata": {},
   "outputs": [
    {
     "data": {
      "text/plain": [
       "Vento\n",
       "Forte       3\n",
       "Fraco       3\n",
       "Moderado    5\n",
       "dtype: int64"
      ]
     },
     "execution_count": 49,
     "metadata": {},
     "output_type": "execute_result"
    }
   ],
   "source": [
    "# Analisando pra ver se ainda tem grupos fora do padrão\n",
    "agrupado = dataset.groupby([\"Vento\"]).size()\n",
    "agrupado"
   ]
  }
 ],
 "metadata": {
  "kernelspec": {
   "display_name": "base",
   "language": "python",
   "name": "python3"
  },
  "language_info": {
   "codemirror_mode": {
    "name": "ipython",
    "version": 3
   },
   "file_extension": ".py",
   "mimetype": "text/x-python",
   "name": "python",
   "nbconvert_exporter": "python",
   "pygments_lexer": "ipython3",
   "version": "3.12.7"
  }
 },
 "nbformat": 4,
 "nbformat_minor": 5
}
