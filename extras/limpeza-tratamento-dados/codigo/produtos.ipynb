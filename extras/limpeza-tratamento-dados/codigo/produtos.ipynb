{
 "cells": [
  {
   "cell_type": "code",
   "execution_count": 71,
   "id": "582193e3",
   "metadata": {},
   "outputs": [],
   "source": [
    "\n",
    "# importando bibliotecas\n",
    "import pandas as pd\n",
    "import seaborn as srn\n",
    "import statistics as sts\n",
    "import datetime as dt"
   ]
  },
  {
   "cell_type": "code",
   "execution_count": 2,
   "id": "c23d007d",
   "metadata": {},
   "outputs": [
    {
     "data": {
      "text/html": [
       "<div>\n",
       "<style scoped>\n",
       "    .dataframe tbody tr th:only-of-type {\n",
       "        vertical-align: middle;\n",
       "    }\n",
       "\n",
       "    .dataframe tbody tr th {\n",
       "        vertical-align: top;\n",
       "    }\n",
       "\n",
       "    .dataframe thead th {\n",
       "        text-align: right;\n",
       "    }\n",
       "</style>\n",
       "<table border=\"1\" class=\"dataframe\">\n",
       "  <thead>\n",
       "    <tr style=\"text-align: right;\">\n",
       "      <th></th>\n",
       "      <th>Produto</th>\n",
       "      <th>Preço</th>\n",
       "      <th>Quantidade</th>\n",
       "      <th>Categoria</th>\n",
       "      <th>Vendido_em</th>\n",
       "    </tr>\n",
       "  </thead>\n",
       "  <tbody>\n",
       "    <tr>\n",
       "      <th>0</th>\n",
       "      <td>TV</td>\n",
       "      <td>2000</td>\n",
       "      <td>3.0</td>\n",
       "      <td>Eletrônico</td>\n",
       "      <td>2022-01-10</td>\n",
       "    </tr>\n",
       "    <tr>\n",
       "      <th>1</th>\n",
       "      <td>Geladeira</td>\n",
       "      <td>-1500</td>\n",
       "      <td>2.0</td>\n",
       "      <td>Eletrodoméstico</td>\n",
       "      <td>2022-01-11</td>\n",
       "    </tr>\n",
       "    <tr>\n",
       "      <th>2</th>\n",
       "      <td>Notebook</td>\n",
       "      <td>3500</td>\n",
       "      <td>NaN</td>\n",
       "      <td>ELETRONICOS</td>\n",
       "      <td>2022-01-13</td>\n",
       "    </tr>\n",
       "    <tr>\n",
       "      <th>3</th>\n",
       "      <td>Celular</td>\n",
       "      <td>1200</td>\n",
       "      <td>10.0</td>\n",
       "      <td>tech</td>\n",
       "      <td>NaN</td>\n",
       "    </tr>\n",
       "    <tr>\n",
       "      <th>4</th>\n",
       "      <td>Fone</td>\n",
       "      <td>200</td>\n",
       "      <td>0.0</td>\n",
       "      <td>Eletronico</td>\n",
       "      <td>2022-01-15</td>\n",
       "    </tr>\n",
       "  </tbody>\n",
       "</table>\n",
       "</div>"
      ],
      "text/plain": [
       "     Produto  Preço  Quantidade        Categoria  Vendido_em\n",
       "0         TV   2000         3.0       Eletrônico  2022-01-10\n",
       "1  Geladeira  -1500         2.0  Eletrodoméstico  2022-01-11\n",
       "2   Notebook   3500         NaN      ELETRONICOS  2022-01-13\n",
       "3    Celular   1200        10.0             tech         NaN\n",
       "4       Fone    200         0.0       Eletronico  2022-01-15"
      ]
     },
     "execution_count": 2,
     "metadata": {},
     "output_type": "execute_result"
    }
   ],
   "source": [
    "# Imporatando dados\n",
    "dataset = pd.read_csv('../csv/produto.csv')\n",
    "\n",
    "# Lendo o head dos dados\n",
    "dataset.head()"
   ]
  },
  {
   "cell_type": "markdown",
   "id": "575b1af9",
   "metadata": {},
   "source": [
    "### Duplicatas"
   ]
  },
  {
   "cell_type": "code",
   "execution_count": 23,
   "id": "15efa9f4",
   "metadata": {},
   "outputs": [
    {
     "data": {
      "text/plain": [
       "np.int64(4)"
      ]
     },
     "execution_count": 23,
     "metadata": {},
     "output_type": "execute_result"
    }
   ],
   "source": [
    "# Somando as duplicatas por produto\n",
    "dataset.duplicated(subset=[\"Produto\", \"Vendido_em\"]).sum()"
   ]
  },
  {
   "cell_type": "code",
   "execution_count": 25,
   "id": "7c96c25a",
   "metadata": {},
   "outputs": [],
   "source": [
    "# Deletando duplicatas\n",
    "dataset.drop_duplicates(subset=[\"Produto\",\"Vendido_em\"], keep=\"first\", inplace=True)"
   ]
  },
  {
   "cell_type": "markdown",
   "id": "de03c17c",
   "metadata": {},
   "source": [
    "### Preços"
   ]
  },
  {
   "cell_type": "code",
   "execution_count": 26,
   "id": "26a8c3f9",
   "metadata": {},
   "outputs": [
    {
     "data": {
      "text/plain": [
       "Text(0.5, 1.0, 'Preços')"
      ]
     },
     "execution_count": 26,
     "metadata": {},
     "output_type": "execute_result"
    },
    {
     "data": {
      "image/png": "[encoded data removed]",
      "text/plain": [
       "<Figure size 640x480 with 1 Axes>"
      ]
     },
     "metadata": {},
     "output_type": "display_data"
    }
   ],
   "source": [
    "# Criando e analisando gráfico boxplot e displo\n",
    "srn.boxplot(dataset[\"Preço\"]).set_title('Preços')"
   ]
  },
  {
   "cell_type": "code",
   "execution_count": 27,
   "id": "fa7e29ea",
   "metadata": {},
   "outputs": [
    {
     "data": {
      "text/plain": [
       "<seaborn.axisgrid.FacetGrid at 0x244a735aad0>"
      ]
     },
     "execution_count": 27,
     "metadata": {},
     "output_type": "execute_result"
    },
    {
     "data": {
      "image/png": "[encoded data removed]",
      "text/plain": [
       "<Figure size 500x500 with 1 Axes>"
      ]
     },
     "metadata": {},
     "output_type": "display_data"
    }
   ],
   "source": [
    "# Gráfico displot\n",
    "srn.displot(dataset[\"Preço\"]).set_titles('Preço')"
   ]
  },
  {
   "cell_type": "code",
   "execution_count": 28,
   "id": "10ccee4c",
   "metadata": {},
   "outputs": [
    {
     "data": {
      "text/plain": [
       "np.int64(0)"
      ]
     },
     "execution_count": 28,
     "metadata": {},
     "output_type": "execute_result"
    }
   ],
   "source": [
    "# Vendo se há valores nulos nos preços\n",
    "dataset[\"Preço\"].isnull().sum()"
   ]
  },
  {
   "cell_type": "markdown",
   "id": "00c21cdd",
   "metadata": {},
   "source": [
    "#### Resultado da análise:\n",
    "- Podemos notar que há valores negativos, o que não faz nenhum sentido!\n",
    "- Não há valores nulos\n",
    "\n",
    "##### O que fazer?\n",
    "- Corrigir os valores que são inválidos"
   ]
  },
  {
   "cell_type": "code",
   "execution_count": 29,
   "id": "60514e8d",
   "metadata": {},
   "outputs": [
    {
     "data": {
      "text/html": [
       "<div>\n",
       "<style scoped>\n",
       "    .dataframe tbody tr th:only-of-type {\n",
       "        vertical-align: middle;\n",
       "    }\n",
       "\n",
       "    .dataframe tbody tr th {\n",
       "        vertical-align: top;\n",
       "    }\n",
       "\n",
       "    .dataframe thead th {\n",
       "        text-align: right;\n",
       "    }\n",
       "</style>\n",
       "<table border=\"1\" class=\"dataframe\">\n",
       "  <thead>\n",
       "    <tr style=\"text-align: right;\">\n",
       "      <th></th>\n",
       "      <th>Produto</th>\n",
       "      <th>Preço</th>\n",
       "      <th>Quantidade</th>\n",
       "      <th>Categoria</th>\n",
       "      <th>Vendido_em</th>\n",
       "    </tr>\n",
       "  </thead>\n",
       "  <tbody>\n",
       "  </tbody>\n",
       "</table>\n",
       "</div>"
      ],
      "text/plain": [
       "Empty DataFrame\n",
       "Columns: [Produto, Preço, Quantidade, Categoria, Vendido_em]\n",
       "Index: []"
      ]
     },
     "execution_count": 29,
     "metadata": {},
     "output_type": "execute_result"
    }
   ],
   "source": [
    "# Vendo quantos itens negativos existem\n",
    "dataset.loc[dataset[\"Preço\"] < 0]"
   ]
  },
  {
   "cell_type": "code",
   "execution_count": 30,
   "id": "1e51ad0d",
   "metadata": {},
   "outputs": [
    {
     "data": {
      "text/plain": [
       "1400.0"
      ]
     },
     "execution_count": 30,
     "metadata": {},
     "output_type": "execute_result"
    }
   ],
   "source": [
    "# Apenas um número negativo\n",
    "# Substituiremos pela mediana dos preços, para não levar o preço negativo para a média\n",
    "# Criando a mediana\n",
    "mediana = sts.median(dataset[\"Preço\"])\n",
    "mediana"
   ]
  },
  {
   "cell_type": "code",
   "execution_count": 31,
   "id": "06c164b8",
   "metadata": {},
   "outputs": [],
   "source": [
    "# Substituindo valor negativo\n",
    "dataset.loc[dataset[\"Preço\"] < 0, \"Preço\"] = mediana"
   ]
  },
  {
   "cell_type": "code",
   "execution_count": 33,
   "id": "3060d169",
   "metadata": {},
   "outputs": [
    {
     "data": {
      "text/html": [
       "<div>\n",
       "<style scoped>\n",
       "    .dataframe tbody tr th:only-of-type {\n",
       "        vertical-align: middle;\n",
       "    }\n",
       "\n",
       "    .dataframe tbody tr th {\n",
       "        vertical-align: top;\n",
       "    }\n",
       "\n",
       "    .dataframe thead th {\n",
       "        text-align: right;\n",
       "    }\n",
       "</style>\n",
       "<table border=\"1\" class=\"dataframe\">\n",
       "  <thead>\n",
       "    <tr style=\"text-align: right;\">\n",
       "      <th></th>\n",
       "      <th>Produto</th>\n",
       "      <th>Preço</th>\n",
       "      <th>Quantidade</th>\n",
       "      <th>Categoria</th>\n",
       "      <th>Vendido_em</th>\n",
       "    </tr>\n",
       "  </thead>\n",
       "  <tbody>\n",
       "  </tbody>\n",
       "</table>\n",
       "</div>"
      ],
      "text/plain": [
       "Empty DataFrame\n",
       "Columns: [Produto, Preço, Quantidade, Categoria, Vendido_em]\n",
       "Index: []"
      ]
     },
     "execution_count": 33,
     "metadata": {},
     "output_type": "execute_result"
    }
   ],
   "source": [
    "# Verificando\n",
    "dataset.loc[dataset[\"Preço\"] < 0]"
   ]
  },
  {
   "cell_type": "markdown",
   "id": "77630f18",
   "metadata": {},
   "source": [
    "### Quantidade"
   ]
  },
  {
   "cell_type": "code",
   "execution_count": 37,
   "id": "6fc59f4e",
   "metadata": {},
   "outputs": [
    {
     "data": {
      "text/plain": [
       "np.int64(1)"
      ]
     },
     "execution_count": 37,
     "metadata": {},
     "output_type": "execute_result"
    }
   ],
   "source": [
    "# Verificando se existe alguma quantidade nula\n",
    "dataset[\"Quantidade\"].isnull().sum()"
   ]
  },
  {
   "cell_type": "code",
   "execution_count": 39,
   "id": "53f58328",
   "metadata": {},
   "outputs": [
    {
     "data": {
      "text/plain": [
       "2.0"
      ]
     },
     "execution_count": 39,
     "metadata": {},
     "output_type": "execute_result"
    }
   ],
   "source": [
    "# Substituindo valor nulo pela moda\n",
    "# Pegando a moda\n",
    "moda = sts.mode(dataset[\"Quantidade\"])\n",
    "moda"
   ]
  },
  {
   "cell_type": "code",
   "execution_count": 44,
   "id": "6d36166a",
   "metadata": {},
   "outputs": [],
   "source": [
    "# Substituindo\n",
    "dataset.fillna({\"Quantidade\":moda}, inplace=True)"
   ]
  },
  {
   "cell_type": "code",
   "execution_count": 45,
   "id": "19f4b2c8",
   "metadata": {},
   "outputs": [
    {
     "data": {
      "text/plain": [
       "np.int64(0)"
      ]
     },
     "execution_count": 45,
     "metadata": {},
     "output_type": "execute_result"
    }
   ],
   "source": [
    "# Verificando se existe AINDA alguma quantidade nula\n",
    "dataset[\"Quantidade\"].isnull().sum()"
   ]
  },
  {
   "cell_type": "markdown",
   "id": "5718c3d3",
   "metadata": {},
   "source": [
    "### Categoria"
   ]
  },
  {
   "cell_type": "code",
   "execution_count": 48,
   "id": "618ad984",
   "metadata": {},
   "outputs": [
    {
     "data": {
      "text/plain": [
       "Categoria\n",
       "ELETRONICOS        1\n",
       "EletroDoméstico    1\n",
       "Eletrodoméstico    2\n",
       "Eletronico         1\n",
       "Eletrônico         1\n",
       "acessórios         1\n",
       "tech               1\n",
       "dtype: int64"
      ]
     },
     "execution_count": 48,
     "metadata": {},
     "output_type": "execute_result"
    }
   ],
   "source": [
    "# Analisando quantas categorias existem\n",
    "agrupado = dataset.groupby([\"Categoria\"]).size()\n",
    "agrupado"
   ]
  },
  {
   "cell_type": "markdown",
   "id": "8423b9e7",
   "metadata": {},
   "source": [
    "#### Pontos a se notar:\n",
    "- Muitas categorias repetidas de formas diferentes\n",
    "\n",
    "#### O que fazer?\n",
    "##### Padronizar as categorias para:\n",
    "- Eletrônico\n",
    "- Eletrodoméstico\n",
    "- Acessórios\n",
    "- Tech"
   ]
  },
  {
   "cell_type": "code",
   "execution_count": 49,
   "id": "d953d9e7",
   "metadata": {},
   "outputs": [],
   "source": [
    "# Padronizações\n",
    "dataset.loc[dataset[\"Categoria\"].isin(['ELETRONICOS','Eletronico']), \"Categoria\"] = \"Eletrônico\"\n",
    "dataset.loc[dataset[\"Categoria\"] == 'EletroDoméstico', \"Categoria\"] = \"Eletrodoméstico\"\n",
    "dataset.loc[dataset[\"Categoria\"] == 'acessórios', \"Categoria\"] = \"Acessórios\"\n",
    "dataset.loc[dataset[\"Categoria\"] == 'tech', \"Categoria\"] = \"Tech\""
   ]
  },
  {
   "cell_type": "code",
   "execution_count": 52,
   "id": "b8a41b75",
   "metadata": {},
   "outputs": [
    {
     "data": {
      "text/plain": [
       "Categoria\n",
       "Acessórios         1\n",
       "Eletrodoméstico    3\n",
       "Eletrônico         3\n",
       "Tech               1\n",
       "dtype: int64"
      ]
     },
     "execution_count": 52,
     "metadata": {},
     "output_type": "execute_result"
    }
   ],
   "source": [
    "# Verificando como estão os grupos agora\n",
    "agrupado = dataset.groupby([\"Categoria\"]).size()\n",
    "agrupado"
   ]
  },
  {
   "cell_type": "code",
   "execution_count": null,
   "id": "25924be0",
   "metadata": {},
   "outputs": [],
   "source": [
    "srn.countplot(x= 'X', data=dataset[\"Categoria\"])"
   ]
  },
  {
   "cell_type": "code",
   "execution_count": 54,
   "id": "e586794e",
   "metadata": {},
   "outputs": [
    {
     "data": {
      "text/plain": [
       "np.int64(0)"
      ]
     },
     "execution_count": 54,
     "metadata": {},
     "output_type": "execute_result"
    }
   ],
   "source": [
    "# Há algum item sem categoria?\n",
    "dataset[\"Categoria\"].isnull().sum()"
   ]
  },
  {
   "cell_type": "markdown",
   "id": "cc1037c8",
   "metadata": {},
   "source": [
    "### Vendido_em"
   ]
  },
  {
   "cell_type": "code",
   "execution_count": 60,
   "id": "8bff20ee",
   "metadata": {},
   "outputs": [
    {
     "data": {
      "text/plain": [
       "np.int64(1)"
      ]
     },
     "execution_count": 60,
     "metadata": {},
     "output_type": "execute_result"
    }
   ],
   "source": [
    "# Verificando se há datas nulas\n",
    "dataset[\"Vendido_em\"].isnull().sum()"
   ]
  },
  {
   "cell_type": "code",
   "execution_count": 62,
   "id": "fdc5353e",
   "metadata": {},
   "outputs": [
    {
     "data": {
      "text/plain": [
       "'2022-01-10'"
      ]
     },
     "execution_count": 62,
     "metadata": {},
     "output_type": "execute_result"
    }
   ],
   "source": [
    "# Substituindo pela moda\n",
    "# Pegando moda\n",
    "moda = sts.mode(dataset[\"Vendido_em\"])\n",
    "moda"
   ]
  },
  {
   "cell_type": "code",
   "execution_count": 65,
   "id": "2d232081",
   "metadata": {},
   "outputs": [],
   "source": [
    "# Substituindo\n",
    "dataset.fillna({\"Vendido_em\": moda},inplace=True)"
   ]
  },
  {
   "cell_type": "code",
   "execution_count": 67,
   "id": "66e94900",
   "metadata": {},
   "outputs": [],
   "source": [
    "# Analisando se todas as datas estão no formato correto de data do pd\n",
    "dataset[\"Vendido_em\"] = pd.to_datetime(dataset[\"Vendido_em\"], errors=\"coerce\")"
   ]
  },
  {
   "cell_type": "code",
   "execution_count": 70,
   "id": "7bdaff66",
   "metadata": {},
   "outputs": [
    {
     "data": {
      "text/plain": [
       "np.int64(0)"
      ]
     },
     "execution_count": 70,
     "metadata": {},
     "output_type": "execute_result"
    }
   ],
   "source": [
    "# Verificando se há datas nulas agora\n",
    "dataset[\"Vendido_em\"].isnull().sum()"
   ]
  },
  {
   "cell_type": "code",
   "execution_count": 72,
   "id": "62902f59",
   "metadata": {},
   "outputs": [],
   "source": [
    "#Separando as datas para melhor comparação de dados \n",
    "dataset[\"Ano\"] = dataset[\"Vendido_em\"].dt.year\n",
    "dataset[\"Mês\"] = dataset[\"Vendido_em\"].dt.month\n",
    "dataset[\"Dia\"] = dataset[\"Vendido_em\"].dt.day\n"
   ]
  },
  {
   "cell_type": "code",
   "execution_count": 73,
   "id": "e118b7d4",
   "metadata": {},
   "outputs": [
    {
     "data": {
      "text/html": [
       "<div>\n",
       "<style scoped>\n",
       "    .dataframe tbody tr th:only-of-type {\n",
       "        vertical-align: middle;\n",
       "    }\n",
       "\n",
       "    .dataframe tbody tr th {\n",
       "        vertical-align: top;\n",
       "    }\n",
       "\n",
       "    .dataframe thead th {\n",
       "        text-align: right;\n",
       "    }\n",
       "</style>\n",
       "<table border=\"1\" class=\"dataframe\">\n",
       "  <thead>\n",
       "    <tr style=\"text-align: right;\">\n",
       "      <th></th>\n",
       "      <th>Produto</th>\n",
       "      <th>Preço</th>\n",
       "      <th>Quantidade</th>\n",
       "      <th>Categoria</th>\n",
       "      <th>Vendido_em</th>\n",
       "      <th>Ano</th>\n",
       "      <th>Mês</th>\n",
       "      <th>Dia</th>\n",
       "    </tr>\n",
       "  </thead>\n",
       "  <tbody>\n",
       "    <tr>\n",
       "      <th>0</th>\n",
       "      <td>TV</td>\n",
       "      <td>2000</td>\n",
       "      <td>3.0</td>\n",
       "      <td>Eletrônico</td>\n",
       "      <td>2022-01-10</td>\n",
       "      <td>2022</td>\n",
       "      <td>1</td>\n",
       "      <td>10</td>\n",
       "    </tr>\n",
       "    <tr>\n",
       "      <th>1</th>\n",
       "      <td>Geladeira</td>\n",
       "      <td>1600</td>\n",
       "      <td>2.0</td>\n",
       "      <td>Eletrodoméstico</td>\n",
       "      <td>2022-01-11</td>\n",
       "      <td>2022</td>\n",
       "      <td>1</td>\n",
       "      <td>11</td>\n",
       "    </tr>\n",
       "    <tr>\n",
       "      <th>2</th>\n",
       "      <td>Notebook</td>\n",
       "      <td>3500</td>\n",
       "      <td>2.0</td>\n",
       "      <td>Eletrônico</td>\n",
       "      <td>2022-01-13</td>\n",
       "      <td>2022</td>\n",
       "      <td>1</td>\n",
       "      <td>13</td>\n",
       "    </tr>\n",
       "    <tr>\n",
       "      <th>3</th>\n",
       "      <td>Celular</td>\n",
       "      <td>1200</td>\n",
       "      <td>10.0</td>\n",
       "      <td>Tech</td>\n",
       "      <td>2022-01-10</td>\n",
       "      <td>2022</td>\n",
       "      <td>1</td>\n",
       "      <td>10</td>\n",
       "    </tr>\n",
       "    <tr>\n",
       "      <th>4</th>\n",
       "      <td>Fone</td>\n",
       "      <td>200</td>\n",
       "      <td>0.0</td>\n",
       "      <td>Eletrônico</td>\n",
       "      <td>2022-01-15</td>\n",
       "      <td>2022</td>\n",
       "      <td>1</td>\n",
       "      <td>15</td>\n",
       "    </tr>\n",
       "  </tbody>\n",
       "</table>\n",
       "</div>"
      ],
      "text/plain": [
       "     Produto  Preço  Quantidade        Categoria Vendido_em   Ano  Mês  Dia\n",
       "0         TV   2000         3.0       Eletrônico 2022-01-10  2022    1   10\n",
       "1  Geladeira   1600         2.0  Eletrodoméstico 2022-01-11  2022    1   11\n",
       "2   Notebook   3500         2.0       Eletrônico 2022-01-13  2022    1   13\n",
       "3    Celular   1200        10.0             Tech 2022-01-10  2022    1   10\n",
       "4       Fone    200         0.0       Eletrônico 2022-01-15  2022    1   15"
      ]
     },
     "execution_count": 73,
     "metadata": {},
     "output_type": "execute_result"
    }
   ],
   "source": [
    "# Vendo como está o head agora\n",
    "dataset.head()"
   ]
  }
 ],
 "metadata": {
  "kernelspec": {
   "display_name": "base",
   "language": "python",
   "name": "python3"
  },
  "language_info": {
   "codemirror_mode": {
    "name": "ipython",
    "version": 3
   },
   "file_extension": ".py",
   "mimetype": "text/x-python",
   "name": "python",
   "nbconvert_exporter": "python",
   "pygments_lexer": "ipython3",
   "version": "3.13.5"
  }
 },
 "nbformat": 4,
 "nbformat_minor": 5
}
