{
 "cells": [
  {
   "cell_type": "code",
   "execution_count": 1,
   "id": "648191e0",
   "metadata": {},
   "outputs": [],
   "source": [
    "# Importando bibliotecas\n",
    "import pandas as pd\n",
    "import statistics as sts\n",
    "import seaborn as srn"
   ]
  },
  {
   "cell_type": "code",
   "execution_count": 2,
   "id": "90da9662",
   "metadata": {},
   "outputs": [
    {
     "data": {
      "text/html": [
       "<div>\n",
       "<style scoped>\n",
       "    .dataframe tbody tr th:only-of-type {\n",
       "        vertical-align: middle;\n",
       "    }\n",
       "\n",
       "    .dataframe tbody tr th {\n",
       "        vertical-align: top;\n",
       "    }\n",
       "\n",
       "    .dataframe thead th {\n",
       "        text-align: right;\n",
       "    }\n",
       "</style>\n",
       "<table border=\"1\" class=\"dataframe\">\n",
       "  <thead>\n",
       "    <tr style=\"text-align: right;\">\n",
       "      <th></th>\n",
       "      <th>Nome</th>\n",
       "      <th>Idade</th>\n",
       "      <th>Salário</th>\n",
       "      <th>Setor</th>\n",
       "      <th>Ativo</th>\n",
       "    </tr>\n",
       "  </thead>\n",
       "  <tbody>\n",
       "    <tr>\n",
       "      <th>0</th>\n",
       "      <td>João</td>\n",
       "      <td>25</td>\n",
       "      <td>3000.0</td>\n",
       "      <td>TI</td>\n",
       "      <td>sim</td>\n",
       "    </tr>\n",
       "    <tr>\n",
       "      <th>1</th>\n",
       "      <td>Maria</td>\n",
       "      <td>-5</td>\n",
       "      <td>4000.0</td>\n",
       "      <td>RH</td>\n",
       "      <td>não</td>\n",
       "    </tr>\n",
       "    <tr>\n",
       "      <th>2</th>\n",
       "      <td>Pedro</td>\n",
       "      <td>45</td>\n",
       "      <td>NaN</td>\n",
       "      <td>Comercial</td>\n",
       "      <td>sim</td>\n",
       "    </tr>\n",
       "    <tr>\n",
       "      <th>3</th>\n",
       "      <td>Ana</td>\n",
       "      <td>30</td>\n",
       "      <td>999999.0</td>\n",
       "      <td>Finanças</td>\n",
       "      <td>NaN</td>\n",
       "    </tr>\n",
       "    <tr>\n",
       "      <th>4</th>\n",
       "      <td>Carlos</td>\n",
       "      <td>150</td>\n",
       "      <td>2800.0</td>\n",
       "      <td>Financeiro</td>\n",
       "      <td>sim</td>\n",
       "    </tr>\n",
       "  </tbody>\n",
       "</table>\n",
       "</div>"
      ],
      "text/plain": [
       "     Nome  Idade   Salário       Setor Ativo\n",
       "0    João     25    3000.0          TI   sim\n",
       "1   Maria     -5    4000.0          RH   não\n",
       "2   Pedro     45       NaN   Comercial   sim\n",
       "3     Ana     30  999999.0    Finanças   NaN\n",
       "4  Carlos    150    2800.0  Financeiro   sim"
      ]
     },
     "execution_count": 2,
     "metadata": {},
     "output_type": "execute_result"
    }
   ],
   "source": [
    "# Importando dados\n",
    "dataset = pd.read_csv(\"../csv/funcionarios_nivel25.csv\")\n",
    "\n",
    "# Vendo head da tabela\n",
    "dataset.head()"
   ]
  },
  {
   "cell_type": "markdown",
   "id": "e5ab74d2",
   "metadata": {},
   "source": [
    "### Duplicatas\n",
    "Vendo se há algum funcionário duplicado pelo nome, idade e setor"
   ]
  },
  {
   "cell_type": "code",
   "execution_count": null,
   "id": "f4fdf5d2",
   "metadata": {},
   "outputs": [
    {
     "data": {
      "text/plain": [
       "np.int64(1)"
      ]
     },
     "execution_count": 5,
     "metadata": {},
     "output_type": "execute_result"
    }
   ],
   "source": [
    "# Fazendo Verificação\n",
    "dataset.duplicated(subset=[\"Nome\",\"Idade\",\"Setor\"]).sum()"
   ]
  },
  {
   "cell_type": "code",
   "execution_count": 8,
   "id": "5bccfe34",
   "metadata": {},
   "outputs": [],
   "source": [
    "# Dropando duplicata\n",
    "dataset.drop_duplicates(subset=[\"Nome\",\"Idade\",\"Setor\"], keep=\"first\",inplace=True)"
   ]
  },
  {
   "cell_type": "markdown",
   "id": "78d88f97",
   "metadata": {},
   "source": [
    "### Idades\n",
    "Analisando idades que estejam erradas ou nulas\n",
    "\n",
    "#### Critérios:\n",
    "- Idade NÃO pode ser negativa\n",
    "- Idade não deve ser maior que 120 (Quase impossivel alguém com essa idade, quanto mais superior a ela)"
   ]
  },
  {
   "cell_type": "code",
   "execution_count": 10,
   "id": "7866230c",
   "metadata": {},
   "outputs": [
    {
     "data": {
      "text/plain": [
       "np.int64(0)"
      ]
     },
     "execution_count": 10,
     "metadata": {},
     "output_type": "execute_result"
    }
   ],
   "source": [
    "# Primeiramente Verificando se existe algum valor nulo\n",
    "dataset[\"Idade\"].isnull().sum()"
   ]
  },
  {
   "cell_type": "code",
   "execution_count": null,
   "id": "e5dd5934",
   "metadata": {},
   "outputs": [
    {
     "data": {
      "text/html": [
       "<div>\n",
       "<style scoped>\n",
       "    .dataframe tbody tr th:only-of-type {\n",
       "        vertical-align: middle;\n",
       "    }\n",
       "\n",
       "    .dataframe tbody tr th {\n",
       "        vertical-align: top;\n",
       "    }\n",
       "\n",
       "    .dataframe thead th {\n",
       "        text-align: right;\n",
       "    }\n",
       "</style>\n",
       "<table border=\"1\" class=\"dataframe\">\n",
       "  <thead>\n",
       "    <tr style=\"text-align: right;\">\n",
       "      <th></th>\n",
       "      <th>Nome</th>\n",
       "      <th>Idade</th>\n",
       "      <th>Salário</th>\n",
       "      <th>Setor</th>\n",
       "      <th>Ativo</th>\n",
       "    </tr>\n",
       "  </thead>\n",
       "  <tbody>\n",
       "    <tr>\n",
       "      <th>1</th>\n",
       "      <td>Maria</td>\n",
       "      <td>-5</td>\n",
       "      <td>4000.0</td>\n",
       "      <td>RH</td>\n",
       "      <td>não</td>\n",
       "    </tr>\n",
       "    <tr>\n",
       "      <th>4</th>\n",
       "      <td>Carlos</td>\n",
       "      <td>150</td>\n",
       "      <td>2800.0</td>\n",
       "      <td>Financeiro</td>\n",
       "      <td>sim</td>\n",
       "    </tr>\n",
       "  </tbody>\n",
       "</table>\n",
       "</div>"
      ],
      "text/plain": [
       "     Nome  Idade  Salário       Setor Ativo\n",
       "1   Maria     -5   4000.0          RH   não\n",
       "4  Carlos    150   2800.0  Financeiro   sim"
      ]
     },
     "execution_count": 12,
     "metadata": {},
     "output_type": "execute_result"
    }
   ],
   "source": [
    "# Verificando se existem idades fora de índice\n",
    "dataset.loc[(dataset[\"Idade\"] < 0)|(dataset[\"Idade\"] > 120)]"
   ]
  },
  {
   "cell_type": "markdown",
   "id": "4732a4ea",
   "metadata": {},
   "source": [
    "- Idades fora de índice\n",
    "#### O que fazer?\n",
    "- Pegar a mediana das idades e substituir esses valores por ela"
   ]
  },
  {
   "cell_type": "code",
   "execution_count": 14,
   "id": "e989377e",
   "metadata": {},
   "outputs": [
    {
     "data": {
      "text/plain": [
       "35"
      ]
     },
     "execution_count": 14,
     "metadata": {},
     "output_type": "execute_result"
    }
   ],
   "source": [
    "# Pegando a mediana\n",
    "mediana = sts.median(dataset[\"Idade\"])\n",
    "mediana"
   ]
  },
  {
   "cell_type": "code",
   "execution_count": 15,
   "id": "2e97a2d3",
   "metadata": {},
   "outputs": [],
   "source": [
    "# Substituindo valores \n",
    "dataset.loc[(dataset[\"Idade\"] < 0)|(dataset[\"Idade\"] > 120), \"Idade\"] = mediana"
   ]
  },
  {
   "cell_type": "code",
   "execution_count": 16,
   "id": "d01e4ef9",
   "metadata": {},
   "outputs": [
    {
     "data": {
      "text/html": [
       "<div>\n",
       "<style scoped>\n",
       "    .dataframe tbody tr th:only-of-type {\n",
       "        vertical-align: middle;\n",
       "    }\n",
       "\n",
       "    .dataframe tbody tr th {\n",
       "        vertical-align: top;\n",
       "    }\n",
       "\n",
       "    .dataframe thead th {\n",
       "        text-align: right;\n",
       "    }\n",
       "</style>\n",
       "<table border=\"1\" class=\"dataframe\">\n",
       "  <thead>\n",
       "    <tr style=\"text-align: right;\">\n",
       "      <th></th>\n",
       "      <th>Nome</th>\n",
       "      <th>Idade</th>\n",
       "      <th>Salário</th>\n",
       "      <th>Setor</th>\n",
       "      <th>Ativo</th>\n",
       "    </tr>\n",
       "  </thead>\n",
       "  <tbody>\n",
       "  </tbody>\n",
       "</table>\n",
       "</div>"
      ],
      "text/plain": [
       "Empty DataFrame\n",
       "Columns: [Nome, Idade, Salário, Setor, Ativo]\n",
       "Index: []"
      ]
     },
     "execution_count": 16,
     "metadata": {},
     "output_type": "execute_result"
    }
   ],
   "source": [
    "# Conferindo\n",
    "dataset.loc[(dataset[\"Idade\"] < 0)|(dataset[\"Idade\"] > 120)]"
   ]
  },
  {
   "cell_type": "markdown",
   "id": "da901243",
   "metadata": {},
   "source": [
    "### Salário\n",
    "- Ver histograma dos salários\n",
    "- Ver se há valores nulos\n",
    "- Analisar Salários (Negativos ou fora de realidade)"
   ]
  },
  {
   "cell_type": "code",
   "execution_count": 18,
   "id": "5109cf59",
   "metadata": {},
   "outputs": [
    {
     "data": {
      "text/plain": [
       "<Axes: xlabel='Salário', ylabel='Count'>"
      ]
     },
     "execution_count": 18,
     "metadata": {},
     "output_type": "execute_result"
    },
    {
     "data": {
      "image/png": "[encoded data removed]",
      "text/plain": [
       "<Figure size 640x480 with 1 Axes>"
      ]
     },
     "metadata": {},
     "output_type": "display_data"
    }
   ],
   "source": [
    "# Criando histograma\n",
    "srn.histplot(dataset[\"Salário\"], bins=2, kde=True)"
   ]
  },
  {
   "cell_type": "markdown",
   "id": "daeb7634",
   "metadata": {},
   "source": [
    "Não soube exatamente analisar o gráfico do histograma, porém da pra notar que tem apenas um valor que está muito descrepante!"
   ]
  },
  {
   "cell_type": "code",
   "execution_count": 22,
   "id": "89a6d59f",
   "metadata": {},
   "outputs": [
    {
     "data": {
      "text/plain": [
       "Text(0.5, 1.0, 'Salário')"
      ]
     },
     "execution_count": 22,
     "metadata": {},
     "output_type": "execute_result"
    },
    {
     "data": {
      "image/png": "[encoded data removed]",
      "text/plain": [
       "<Figure size 640x480 with 1 Axes>"
      ]
     },
     "metadata": {},
     "output_type": "display_data"
    }
   ],
   "source": [
    "# Criando um boxplot que sei analisar melhor\n",
    "srn.boxplot(dataset[\"Salário\"]).set_title(\"Salário\")"
   ]
  },
  {
   "cell_type": "code",
   "execution_count": 28,
   "id": "67999bda",
   "metadata": {},
   "outputs": [
    {
     "data": {
      "text/plain": [
       "np.int64(2)"
      ]
     },
     "execution_count": 28,
     "metadata": {},
     "output_type": "execute_result"
    }
   ],
   "source": [
    "# Vendo se há valores nulos\n",
    "dataset[\"Salário\"].isnull().sum()"
   ]
  },
  {
   "cell_type": "code",
   "execution_count": 20,
   "id": "7ac5af69",
   "metadata": {},
   "outputs": [
    {
     "data": {
      "text/html": [
       "<div>\n",
       "<style scoped>\n",
       "    .dataframe tbody tr th:only-of-type {\n",
       "        vertical-align: middle;\n",
       "    }\n",
       "\n",
       "    .dataframe tbody tr th {\n",
       "        vertical-align: top;\n",
       "    }\n",
       "\n",
       "    .dataframe thead th {\n",
       "        text-align: right;\n",
       "    }\n",
       "</style>\n",
       "<table border=\"1\" class=\"dataframe\">\n",
       "  <thead>\n",
       "    <tr style=\"text-align: right;\">\n",
       "      <th></th>\n",
       "      <th>Nome</th>\n",
       "      <th>Idade</th>\n",
       "      <th>Salário</th>\n",
       "      <th>Setor</th>\n",
       "      <th>Ativo</th>\n",
       "    </tr>\n",
       "  </thead>\n",
       "  <tbody>\n",
       "    <tr>\n",
       "      <th>3</th>\n",
       "      <td>Ana</td>\n",
       "      <td>30</td>\n",
       "      <td>999999.0</td>\n",
       "      <td>Finanças</td>\n",
       "      <td>NaN</td>\n",
       "    </tr>\n",
       "  </tbody>\n",
       "</table>\n",
       "</div>"
      ],
      "text/plain": [
       "  Nome  Idade   Salário     Setor Ativo\n",
       "3  Ana     30  999999.0  Finanças   NaN"
      ]
     },
     "execution_count": 20,
     "metadata": {},
     "output_type": "execute_result"
    }
   ],
   "source": [
    "# Vendo se há algum salário negativo ou acima de 10.000\n",
    "dataset.loc[(dataset[\"Salário\"] < 0)|(dataset[\"Salário\"] > 10000)]"
   ]
  },
  {
   "cell_type": "markdown",
   "id": "4518062d",
   "metadata": {},
   "source": [
    "#### Conclusões:\n",
    "- 2 valores nulos\n",
    "- Sem valores negativos\n",
    "- Apenas um caso específico de salário fora da curva"
   ]
  },
  {
   "cell_type": "markdown",
   "id": "e4818ba4",
   "metadata": {},
   "source": [
    "### O que fazer?\n",
    "- Pegar a mediana do salário\n",
    "- Substituir valores pela mediana"
   ]
  },
  {
   "cell_type": "code",
   "execution_count": 24,
   "id": "d8a483fc",
   "metadata": {},
   "outputs": [
    {
     "data": {
      "text/plain": [
       "3500.0"
      ]
     },
     "execution_count": 24,
     "metadata": {},
     "output_type": "execute_result"
    }
   ],
   "source": [
    "# Pegando mediana\n",
    "mediana = sts.median(dataset[\"Salário\"])\n",
    "mediana"
   ]
  },
  {
   "cell_type": "code",
   "execution_count": 29,
   "id": "696cd147",
   "metadata": {},
   "outputs": [],
   "source": [
    "# Substituindo\n",
    "dataset.loc[dataset[\"Salário\"] > 10000, \"Salário\"] = mediana\n",
    "dataset.fillna({\"Salário\":mediana}, inplace=True)"
   ]
  },
  {
   "cell_type": "code",
   "execution_count": 27,
   "id": "924a6777",
   "metadata": {},
   "outputs": [
    {
     "data": {
      "text/html": [
       "<div>\n",
       "<style scoped>\n",
       "    .dataframe tbody tr th:only-of-type {\n",
       "        vertical-align: middle;\n",
       "    }\n",
       "\n",
       "    .dataframe tbody tr th {\n",
       "        vertical-align: top;\n",
       "    }\n",
       "\n",
       "    .dataframe thead th {\n",
       "        text-align: right;\n",
       "    }\n",
       "</style>\n",
       "<table border=\"1\" class=\"dataframe\">\n",
       "  <thead>\n",
       "    <tr style=\"text-align: right;\">\n",
       "      <th></th>\n",
       "      <th>Nome</th>\n",
       "      <th>Idade</th>\n",
       "      <th>Salário</th>\n",
       "      <th>Setor</th>\n",
       "      <th>Ativo</th>\n",
       "    </tr>\n",
       "  </thead>\n",
       "  <tbody>\n",
       "  </tbody>\n",
       "</table>\n",
       "</div>"
      ],
      "text/plain": [
       "Empty DataFrame\n",
       "Columns: [Nome, Idade, Salário, Setor, Ativo]\n",
       "Index: []"
      ]
     },
     "execution_count": 27,
     "metadata": {},
     "output_type": "execute_result"
    }
   ],
   "source": [
    "# Verificando\n",
    "dataset.loc[dataset[\"Salário\"] > 10000]"
   ]
  },
  {
   "cell_type": "code",
   "execution_count": 30,
   "id": "3ea1f028",
   "metadata": {},
   "outputs": [
    {
     "data": {
      "text/plain": [
       "np.int64(0)"
      ]
     },
     "execution_count": 30,
     "metadata": {},
     "output_type": "execute_result"
    }
   ],
   "source": [
    "# Verificando\n",
    "dataset[\"Salário\"].isnull().sum()"
   ]
  },
  {
   "cell_type": "markdown",
   "id": "fc23e1fc",
   "metadata": {},
   "source": [
    "### Setor\n",
    "- Padronizar Setores\n",
    "- Ver valores nulos"
   ]
  },
  {
   "cell_type": "code",
   "execution_count": 31,
   "id": "527f46f4",
   "metadata": {},
   "outputs": [
    {
     "data": {
      "text/plain": [
       "Setor\n",
       "Comercial     1\n",
       "FINANÇAS      1\n",
       "Finance       1\n",
       "Financeiro    2\n",
       "Finanças      1\n",
       "RH            2\n",
       "TI            1\n",
       "comercial     1\n",
       "finance       1\n",
       "dtype: int64"
      ]
     },
     "execution_count": 31,
     "metadata": {},
     "output_type": "execute_result"
    }
   ],
   "source": [
    "# Verificando os grupos existentes\n",
    "agrupado = dataset.groupby([\"Setor\"]).size()\n",
    "agrupado"
   ]
  },
  {
   "cell_type": "markdown",
   "id": "c00a9392",
   "metadata": {},
   "source": [
    "#### Padronizar para:\n",
    "- Financeiro\n",
    "- RH\n",
    "- TI\n",
    "- Comercial"
   ]
  },
  {
   "cell_type": "code",
   "execution_count": 32,
   "id": "3f453b1e",
   "metadata": {},
   "outputs": [],
   "source": [
    "# Padronizando\n",
    "dataset.loc[dataset[\"Setor\"].isin([\"Finance\",\"FINANÇAS\",\"Finanças\",\"finance\"]), \"Setor\"] = \"Financeiro\"\n",
    "dataset.loc[dataset[\"Setor\"] == \"comercial\", \"Setor\"] = \"Comercial\""
   ]
  },
  {
   "cell_type": "code",
   "execution_count": 35,
   "id": "ae70deb2",
   "metadata": {},
   "outputs": [
    {
     "data": {
      "text/plain": [
       "Setor\n",
       "Comercial     2\n",
       "Financeiro    6\n",
       "RH            2\n",
       "TI            1\n",
       "dtype: int64"
      ]
     },
     "execution_count": 35,
     "metadata": {},
     "output_type": "execute_result"
    }
   ],
   "source": [
    "# Verificando\n",
    "agrupado = dataset.groupby([\"Setor\"]).size()\n",
    "agrupado"
   ]
  },
  {
   "cell_type": "code",
   "execution_count": 36,
   "id": "bb479767",
   "metadata": {},
   "outputs": [
    {
     "data": {
      "text/plain": [
       "np.int64(0)"
      ]
     },
     "execution_count": 36,
     "metadata": {},
     "output_type": "execute_result"
    }
   ],
   "source": [
    "# Verificando valores nulos\n",
    "dataset[\"Setor\"].isnull().sum()"
   ]
  },
  {
   "cell_type": "code",
   "execution_count": 34,
   "id": "1a60804f",
   "metadata": {},
   "outputs": [
    {
     "data": {
      "text/plain": [
       "<Axes: ylabel='Setor'>"
      ]
     },
     "execution_count": 34,
     "metadata": {},
     "output_type": "execute_result"
    },
    {
     "data": {
      "image/png": "[encoded data removed]",
      "text/plain": [
       "<Figure size 640x480 with 1 Axes>"
      ]
     },
     "metadata": {},
     "output_type": "display_data"
    }
   ],
   "source": [
    "# Analisando como está o gráfico dos setores\n",
    "srn.barplot(dataset[\"Setor\"], color='blue')"
   ]
  },
  {
   "cell_type": "markdown",
   "id": "66fb263a",
   "metadata": {},
   "source": [
    ">> Comentário:\n",
    ">> Pelo gráfico notamos que o maior setor é o financeiro e o menor é TI"
   ]
  },
  {
   "cell_type": "markdown",
   "id": "abc8ef0f",
   "metadata": {},
   "source": [
    "### Ativo\n",
    "- Tratar valores nulos com a moda"
   ]
  },
  {
   "cell_type": "code",
   "execution_count": 38,
   "id": "31297deb",
   "metadata": {},
   "outputs": [
    {
     "data": {
      "text/plain": [
       "np.int64(2)"
      ]
     },
     "execution_count": 38,
     "metadata": {},
     "output_type": "execute_result"
    }
   ],
   "source": [
    "# Verificando a quantidade de nulos\n",
    "dataset[\"Ativo\"].isnull().sum()"
   ]
  },
  {
   "cell_type": "code",
   "execution_count": 41,
   "id": "28a2ee70",
   "metadata": {},
   "outputs": [
    {
     "data": {
      "text/plain": [
       "'sim'"
      ]
     },
     "execution_count": 41,
     "metadata": {},
     "output_type": "execute_result"
    }
   ],
   "source": [
    "# Pegando a moda\n",
    "moda = sts.mode(dataset[\"Ativo\"])\n",
    "moda"
   ]
  },
  {
   "cell_type": "code",
   "execution_count": 43,
   "id": "d0ccbd7a",
   "metadata": {},
   "outputs": [],
   "source": [
    "# Substituindo\n",
    "dataset.fillna({\"Ativo\":moda}, inplace=True)"
   ]
  }
 ],
 "metadata": {
  "kernelspec": {
   "display_name": "base",
   "language": "python",
   "name": "python3"
  },
  "language_info": {
   "codemirror_mode": {
    "name": "ipython",
    "version": 3
   },
   "file_extension": ".py",
   "mimetype": "text/x-python",
   "name": "python",
   "nbconvert_exporter": "python",
   "pygments_lexer": "ipython3",
   "version": "3.13.5"
  }
 },
 "nbformat": 4,
 "nbformat_minor": 5
}
