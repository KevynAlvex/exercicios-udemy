{
 "cells": [
  {
   "cell_type": "code",
   "execution_count": 1,
   "id": "95b04ccd",
   "metadata": {},
   "outputs": [],
   "source": [
    "import pandas as pd\n",
    "import statistics as sts\n",
    "import seaborn as srn"
   ]
  },
  {
   "cell_type": "code",
   "execution_count": 2,
   "id": "a856108f",
   "metadata": {},
   "outputs": [
    {
     "data": {
      "text/html": [
       "<div>\n",
       "<style scoped>\n",
       "    .dataframe tbody tr th:only-of-type {\n",
       "        vertical-align: middle;\n",
       "    }\n",
       "\n",
       "    .dataframe tbody tr th {\n",
       "        vertical-align: top;\n",
       "    }\n",
       "\n",
       "    .dataframe thead th {\n",
       "        text-align: right;\n",
       "    }\n",
       "</style>\n",
       "<table border=\"1\" class=\"dataframe\">\n",
       "  <thead>\n",
       "    <tr style=\"text-align: right;\">\n",
       "      <th></th>\n",
       "      <th>Cidade</th>\n",
       "      <th>Temperatura</th>\n",
       "      <th>Umidade</th>\n",
       "      <th>Chuva</th>\n",
       "      <th>Vento</th>\n",
       "    </tr>\n",
       "  </thead>\n",
       "  <tbody>\n",
       "    <tr>\n",
       "      <th>0</th>\n",
       "      <td>São Paulo</td>\n",
       "      <td>25</td>\n",
       "      <td>80</td>\n",
       "      <td>sim</td>\n",
       "      <td>forte</td>\n",
       "    </tr>\n",
       "    <tr>\n",
       "      <th>1</th>\n",
       "      <td>Rio</td>\n",
       "      <td>200</td>\n",
       "      <td>50</td>\n",
       "      <td>nao</td>\n",
       "      <td>fraco</td>\n",
       "    </tr>\n",
       "    <tr>\n",
       "      <th>2</th>\n",
       "      <td>BH</td>\n",
       "      <td>22</td>\n",
       "      <td>-10</td>\n",
       "      <td>sim</td>\n",
       "      <td>NaN</td>\n",
       "    </tr>\n",
       "    <tr>\n",
       "      <th>3</th>\n",
       "      <td>Curitiba</td>\n",
       "      <td>18</td>\n",
       "      <td>90</td>\n",
       "      <td>menos</td>\n",
       "      <td>moderado</td>\n",
       "    </tr>\n",
       "  </tbody>\n",
       "</table>\n",
       "</div>"
      ],
      "text/plain": [
       "      Cidade  Temperatura  Umidade  Chuva     Vento\n",
       "0  São Paulo           25       80    sim     forte\n",
       "1        Rio          200       50    nao     fraco\n",
       "2         BH           22      -10    sim       NaN\n",
       "3   Curitiba           18       90  menos  moderado"
      ]
     },
     "execution_count": 2,
     "metadata": {},
     "output_type": "execute_result"
    }
   ],
   "source": [
    "dataset = pd.read_csv('clima.csv')\n",
    "dataset.head()"
   ]
  },
  {
   "cell_type": "code",
   "execution_count": 3,
   "id": "aa213216",
   "metadata": {},
   "outputs": [
    {
     "data": {
      "text/plain": [
       "Cidade         0\n",
       "Temperatura    0\n",
       "Umidade        0\n",
       "Chuva          0\n",
       "Vento          1\n",
       "dtype: int64"
      ]
     },
     "execution_count": 3,
     "metadata": {},
     "output_type": "execute_result"
    }
   ],
   "source": [
    "dataset.isnull().sum()"
   ]
  },
  {
   "cell_type": "markdown",
   "id": "7bd8cc34",
   "metadata": {},
   "source": [
    "TEMPERATURA"
   ]
  },
  {
   "cell_type": "code",
   "execution_count": 5,
   "id": "334584b7",
   "metadata": {},
   "outputs": [
    {
     "data": {
      "text/plain": [
       "<seaborn.axisgrid.FacetGrid at 0x2d35cd3d8e0>"
      ]
     },
     "execution_count": 5,
     "metadata": {},
     "output_type": "execute_result"
    },
    {
     "data": {
      "image/png": "[encoded data removed]",
      "text/plain": [
       "<Figure size 500x500 with 1 Axes>"
      ]
     },
     "metadata": {},
     "output_type": "display_data"
    }
   ],
   "source": [
    "srn.displot(dataset[\"Temperatura\"]).set_titles(\"Temperatura\")"
   ]
  },
  {
   "cell_type": "code",
   "execution_count": 8,
   "id": "b42f2a16",
   "metadata": {},
   "outputs": [
    {
     "data": {
      "text/plain": [
       "23.5"
      ]
     },
     "execution_count": 8,
     "metadata": {},
     "output_type": "execute_result"
    }
   ],
   "source": [
    "mediana = sts.median(dataset[\"Temperatura\"])\n",
    "mediana"
   ]
  },
  {
   "cell_type": "code",
   "execution_count": 10,
   "id": "e81eb817",
   "metadata": {},
   "outputs": [],
   "source": [
    "dataset.loc[dataset[\"Temperatura\"] > 50, \"Temperatura\"] = mediana"
   ]
  },
  {
   "cell_type": "code",
   "execution_count": 12,
   "id": "ccc25bd1",
   "metadata": {},
   "outputs": [
    {
     "data": {
      "text/html": [
       "<div>\n",
       "<style scoped>\n",
       "    .dataframe tbody tr th:only-of-type {\n",
       "        vertical-align: middle;\n",
       "    }\n",
       "\n",
       "    .dataframe tbody tr th {\n",
       "        vertical-align: top;\n",
       "    }\n",
       "\n",
       "    .dataframe thead th {\n",
       "        text-align: right;\n",
       "    }\n",
       "</style>\n",
       "<table border=\"1\" class=\"dataframe\">\n",
       "  <thead>\n",
       "    <tr style=\"text-align: right;\">\n",
       "      <th></th>\n",
       "      <th>Cidade</th>\n",
       "      <th>Temperatura</th>\n",
       "      <th>Umidade</th>\n",
       "      <th>Chuva</th>\n",
       "      <th>Vento</th>\n",
       "    </tr>\n",
       "  </thead>\n",
       "  <tbody>\n",
       "    <tr>\n",
       "      <th>0</th>\n",
       "      <td>São Paulo</td>\n",
       "      <td>25.0</td>\n",
       "      <td>80</td>\n",
       "      <td>sim</td>\n",
       "      <td>forte</td>\n",
       "    </tr>\n",
       "    <tr>\n",
       "      <th>1</th>\n",
       "      <td>Rio</td>\n",
       "      <td>23.5</td>\n",
       "      <td>50</td>\n",
       "      <td>nao</td>\n",
       "      <td>fraco</td>\n",
       "    </tr>\n",
       "    <tr>\n",
       "      <th>2</th>\n",
       "      <td>BH</td>\n",
       "      <td>22.0</td>\n",
       "      <td>-10</td>\n",
       "      <td>sim</td>\n",
       "      <td>NaN</td>\n",
       "    </tr>\n",
       "    <tr>\n",
       "      <th>3</th>\n",
       "      <td>Curitiba</td>\n",
       "      <td>18.0</td>\n",
       "      <td>90</td>\n",
       "      <td>menos</td>\n",
       "      <td>moderado</td>\n",
       "    </tr>\n",
       "  </tbody>\n",
       "</table>\n",
       "</div>"
      ],
      "text/plain": [
       "      Cidade  Temperatura  Umidade  Chuva     Vento\n",
       "0  São Paulo         25.0       80    sim     forte\n",
       "1        Rio         23.5       50    nao     fraco\n",
       "2         BH         22.0      -10    sim       NaN\n",
       "3   Curitiba         18.0       90  menos  moderado"
      ]
     },
     "execution_count": 12,
     "metadata": {},
     "output_type": "execute_result"
    }
   ],
   "source": [
    "dataset.head()"
   ]
  },
  {
   "cell_type": "markdown",
   "id": "cc1e5d98",
   "metadata": {},
   "source": [
    "UMIDADE"
   ]
  },
  {
   "cell_type": "code",
   "execution_count": 16,
   "id": "1e41520e",
   "metadata": {},
   "outputs": [],
   "source": [
    "posi = dataset.loc[dataset[\"Umidade\"] < 0, \"Umidade\"] * -1\n",
    "dataset.loc[dataset[\"Umidade\"] < 0, \"Umidade\"] = posi"
   ]
  },
  {
   "cell_type": "code",
   "execution_count": 18,
   "id": "a66d7564",
   "metadata": {},
   "outputs": [
    {
     "data": {
      "text/html": [
       "<div>\n",
       "<style scoped>\n",
       "    .dataframe tbody tr th:only-of-type {\n",
       "        vertical-align: middle;\n",
       "    }\n",
       "\n",
       "    .dataframe tbody tr th {\n",
       "        vertical-align: top;\n",
       "    }\n",
       "\n",
       "    .dataframe thead th {\n",
       "        text-align: right;\n",
       "    }\n",
       "</style>\n",
       "<table border=\"1\" class=\"dataframe\">\n",
       "  <thead>\n",
       "    <tr style=\"text-align: right;\">\n",
       "      <th></th>\n",
       "      <th>Cidade</th>\n",
       "      <th>Temperatura</th>\n",
       "      <th>Umidade</th>\n",
       "      <th>Chuva</th>\n",
       "      <th>Vento</th>\n",
       "    </tr>\n",
       "  </thead>\n",
       "  <tbody>\n",
       "    <tr>\n",
       "      <th>0</th>\n",
       "      <td>São Paulo</td>\n",
       "      <td>25.0</td>\n",
       "      <td>80</td>\n",
       "      <td>sim</td>\n",
       "      <td>forte</td>\n",
       "    </tr>\n",
       "    <tr>\n",
       "      <th>1</th>\n",
       "      <td>Rio</td>\n",
       "      <td>23.5</td>\n",
       "      <td>50</td>\n",
       "      <td>nao</td>\n",
       "      <td>fraco</td>\n",
       "    </tr>\n",
       "    <tr>\n",
       "      <th>2</th>\n",
       "      <td>BH</td>\n",
       "      <td>22.0</td>\n",
       "      <td>10</td>\n",
       "      <td>sim</td>\n",
       "      <td>NaN</td>\n",
       "    </tr>\n",
       "    <tr>\n",
       "      <th>3</th>\n",
       "      <td>Curitiba</td>\n",
       "      <td>18.0</td>\n",
       "      <td>90</td>\n",
       "      <td>menos</td>\n",
       "      <td>moderado</td>\n",
       "    </tr>\n",
       "  </tbody>\n",
       "</table>\n",
       "</div>"
      ],
      "text/plain": [
       "      Cidade  Temperatura  Umidade  Chuva     Vento\n",
       "0  São Paulo         25.0       80    sim     forte\n",
       "1        Rio         23.5       50    nao     fraco\n",
       "2         BH         22.0       10    sim       NaN\n",
       "3   Curitiba         18.0       90  menos  moderado"
      ]
     },
     "execution_count": 18,
     "metadata": {},
     "output_type": "execute_result"
    }
   ],
   "source": [
    "dataset.head()"
   ]
  },
  {
   "cell_type": "markdown",
   "id": "659c58ad",
   "metadata": {},
   "source": [
    "CHUVA"
   ]
  },
  {
   "cell_type": "code",
   "execution_count": 20,
   "id": "d720f2ba",
   "metadata": {},
   "outputs": [
    {
     "data": {
      "text/plain": [
       "'sim'"
      ]
     },
     "execution_count": 20,
     "metadata": {},
     "output_type": "execute_result"
    }
   ],
   "source": [
    "moda = sts.mode(dataset[\"Chuva\"])\n",
    "moda"
   ]
  },
  {
   "cell_type": "code",
   "execution_count": 21,
   "id": "e378e5e3",
   "metadata": {},
   "outputs": [],
   "source": [
    "dataset.loc[dataset[\"Chuva\"].isin([\"menos\"]), \"Chuva\"] = moda"
   ]
  },
  {
   "cell_type": "code",
   "execution_count": 23,
   "id": "426560b6",
   "metadata": {},
   "outputs": [
    {
     "data": {
      "text/html": [
       "<div>\n",
       "<style scoped>\n",
       "    .dataframe tbody tr th:only-of-type {\n",
       "        vertical-align: middle;\n",
       "    }\n",
       "\n",
       "    .dataframe tbody tr th {\n",
       "        vertical-align: top;\n",
       "    }\n",
       "\n",
       "    .dataframe thead th {\n",
       "        text-align: right;\n",
       "    }\n",
       "</style>\n",
       "<table border=\"1\" class=\"dataframe\">\n",
       "  <thead>\n",
       "    <tr style=\"text-align: right;\">\n",
       "      <th></th>\n",
       "      <th>Cidade</th>\n",
       "      <th>Temperatura</th>\n",
       "      <th>Umidade</th>\n",
       "      <th>Chuva</th>\n",
       "      <th>Vento</th>\n",
       "    </tr>\n",
       "  </thead>\n",
       "  <tbody>\n",
       "    <tr>\n",
       "      <th>0</th>\n",
       "      <td>São Paulo</td>\n",
       "      <td>25.0</td>\n",
       "      <td>80</td>\n",
       "      <td>sim</td>\n",
       "      <td>forte</td>\n",
       "    </tr>\n",
       "    <tr>\n",
       "      <th>1</th>\n",
       "      <td>Rio</td>\n",
       "      <td>23.5</td>\n",
       "      <td>50</td>\n",
       "      <td>nao</td>\n",
       "      <td>fraco</td>\n",
       "    </tr>\n",
       "    <tr>\n",
       "      <th>2</th>\n",
       "      <td>BH</td>\n",
       "      <td>22.0</td>\n",
       "      <td>10</td>\n",
       "      <td>sim</td>\n",
       "      <td>NaN</td>\n",
       "    </tr>\n",
       "    <tr>\n",
       "      <th>3</th>\n",
       "      <td>Curitiba</td>\n",
       "      <td>18.0</td>\n",
       "      <td>90</td>\n",
       "      <td>sim</td>\n",
       "      <td>moderado</td>\n",
       "    </tr>\n",
       "  </tbody>\n",
       "</table>\n",
       "</div>"
      ],
      "text/plain": [
       "      Cidade  Temperatura  Umidade Chuva     Vento\n",
       "0  São Paulo         25.0       80   sim     forte\n",
       "1        Rio         23.5       50   nao     fraco\n",
       "2         BH         22.0       10   sim       NaN\n",
       "3   Curitiba         18.0       90   sim  moderado"
      ]
     },
     "execution_count": 23,
     "metadata": {},
     "output_type": "execute_result"
    }
   ],
   "source": [
    "dataset.head()"
   ]
  },
  {
   "cell_type": "markdown",
   "id": "7eb4f273",
   "metadata": {},
   "source": [
    "VENTO"
   ]
  },
  {
   "cell_type": "code",
   "execution_count": 25,
   "id": "df51fb76",
   "metadata": {},
   "outputs": [],
   "source": [
    "dataset.fillna({\"Vento\":\"moderado\"},inplace=True)"
   ]
  }
 ],
 "metadata": {
  "kernelspec": {
   "display_name": "base",
   "language": "python",
   "name": "python3"
  },
  "language_info": {
   "codemirror_mode": {
    "name": "ipython",
    "version": 3
   },
   "file_extension": ".py",
   "mimetype": "text/x-python",
   "name": "python",
   "nbconvert_exporter": "python",
   "pygments_lexer": "ipython3",
   "version": "3.12.7"
  }
 },
 "nbformat": 4,
 "nbformat_minor": 5
}
