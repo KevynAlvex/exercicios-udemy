{
 "cells": [
  {
   "cell_type": "code",
   "execution_count": 1,
   "id": "52dbc30c",
   "metadata": {},
   "outputs": [],
   "source": [
    "# Importando bibliotecas\n",
    "import pandas as pd\n",
    "import statistics as sts\n",
    "import seaborn as srn"
   ]
  },
  {
   "cell_type": "code",
   "execution_count": 2,
   "id": "b86278f0",
   "metadata": {},
   "outputs": [
    {
     "data": {
      "text/html": [
       "<div>\n",
       "<style scoped>\n",
       "    .dataframe tbody tr th:only-of-type {\n",
       "        vertical-align: middle;\n",
       "    }\n",
       "\n",
       "    .dataframe tbody tr th {\n",
       "        vertical-align: top;\n",
       "    }\n",
       "\n",
       "    .dataframe thead th {\n",
       "        text-align: right;\n",
       "    }\n",
       "</style>\n",
       "<table border=\"1\" class=\"dataframe\">\n",
       "  <thead>\n",
       "    <tr style=\"text-align: right;\">\n",
       "      <th></th>\n",
       "      <th>Produto</th>\n",
       "      <th>Preço</th>\n",
       "      <th>Quantidade</th>\n",
       "      <th>Categoria</th>\n",
       "      <th>Vendido_em</th>\n",
       "    </tr>\n",
       "  </thead>\n",
       "  <tbody>\n",
       "    <tr>\n",
       "      <th>0</th>\n",
       "      <td>TV</td>\n",
       "      <td>2000</td>\n",
       "      <td>3.0</td>\n",
       "      <td>Eletronico</td>\n",
       "      <td>2022-01-10</td>\n",
       "    </tr>\n",
       "    <tr>\n",
       "      <th>1</th>\n",
       "      <td>Geladeira</td>\n",
       "      <td>-1500</td>\n",
       "      <td>2.0</td>\n",
       "      <td>Eletrodomestico</td>\n",
       "      <td>2022-01-11</td>\n",
       "    </tr>\n",
       "    <tr>\n",
       "      <th>2</th>\n",
       "      <td>Notebook</td>\n",
       "      <td>3500</td>\n",
       "      <td>NaN</td>\n",
       "      <td>ELETRÔNICO</td>\n",
       "      <td>2022-01-13</td>\n",
       "    </tr>\n",
       "    <tr>\n",
       "      <th>3</th>\n",
       "      <td>Celular</td>\n",
       "      <td>1200</td>\n",
       "      <td>10.0</td>\n",
       "      <td>menos</td>\n",
       "      <td>NaN</td>\n",
       "    </tr>\n",
       "    <tr>\n",
       "      <th>4</th>\n",
       "      <td>Fone</td>\n",
       "      <td>200</td>\n",
       "      <td>0.0</td>\n",
       "      <td>Eletronico</td>\n",
       "      <td>2022-01-15</td>\n",
       "    </tr>\n",
       "  </tbody>\n",
       "</table>\n",
       "</div>"
      ],
      "text/plain": [
       "     Produto  Preço  Quantidade        Categoria  Vendido_em\n",
       "0         TV   2000         3.0       Eletronico  2022-01-10\n",
       "1  Geladeira  -1500         2.0  Eletrodomestico  2022-01-11\n",
       "2   Notebook   3500         NaN       ELETRÔNICO  2022-01-13\n",
       "3    Celular   1200        10.0            menos         NaN\n",
       "4       Fone    200         0.0       Eletronico  2022-01-15"
      ]
     },
     "execution_count": 2,
     "metadata": {},
     "output_type": "execute_result"
    }
   ],
   "source": [
    "# Importando dados\n",
    "dataset = pd.read_csv('../csv/vendas_nivel2.csv', sep=',')\n",
    "\n",
    "# Mostrando o HEAD\n",
    "dataset.head()"
   ]
  },
  {
   "cell_type": "code",
   "execution_count": 3,
   "id": "44ed59c5",
   "metadata": {},
   "outputs": [
    {
     "data": {
      "text/plain": [
       "Produto       0\n",
       "Preço         0\n",
       "Quantidade    1\n",
       "Categoria     0\n",
       "Vendido_em    1\n",
       "dtype: int64"
      ]
     },
     "execution_count": 3,
     "metadata": {},
     "output_type": "execute_result"
    }
   ],
   "source": [
    "# Conferindo se tem dados nulos\n",
    "dataset.isnull().sum()"
   ]
  },
  {
   "cell_type": "code",
   "execution_count": 4,
   "id": "f6527f17",
   "metadata": {},
   "outputs": [
    {
     "data": {
      "text/plain": [
       "np.int64(0)"
      ]
     },
     "execution_count": 4,
     "metadata": {},
     "output_type": "execute_result"
    }
   ],
   "source": [
    "# Verificando se há duplicatas\n",
    "dataset.duplicated().sum()"
   ]
  },
  {
   "cell_type": "markdown",
   "id": "93701dd3",
   "metadata": {},
   "source": [
    "# Preço"
   ]
  },
  {
   "cell_type": "code",
   "execution_count": 5,
   "id": "a766ba09",
   "metadata": {},
   "outputs": [
    {
     "data": {
      "text/plain": [
       "Text(0.5, 1.0, 'Preço')"
      ]
     },
     "execution_count": 5,
     "metadata": {},
     "output_type": "execute_result"
    },
    {
     "data": {
      "image/png": "[encoded data removed]",
      "text/plain": [
       "<Figure size 640x480 with 1 Axes>"
      ]
     },
     "metadata": {},
     "output_type": "display_data"
    }
   ],
   "source": [
    "# Analizando os gráficos dos preços\n",
    "srn.boxplot(dataset[\"Preço\"]).set_title('Preço')"
   ]
  },
  {
   "cell_type": "markdown",
   "id": "54c08413",
   "metadata": {},
   "source": [
    "Pontos a analizar:\n",
    "- Itens com preço negativo\n",
    "- Dependendo do item o preço é exorbitante"
   ]
  },
  {
   "cell_type": "code",
   "execution_count": 6,
   "id": "e50c24ba",
   "metadata": {},
   "outputs": [
    {
     "data": {
      "text/html": [
       "<div>\n",
       "<style scoped>\n",
       "    .dataframe tbody tr th:only-of-type {\n",
       "        vertical-align: middle;\n",
       "    }\n",
       "\n",
       "    .dataframe tbody tr th {\n",
       "        vertical-align: top;\n",
       "    }\n",
       "\n",
       "    .dataframe thead th {\n",
       "        text-align: right;\n",
       "    }\n",
       "</style>\n",
       "<table border=\"1\" class=\"dataframe\">\n",
       "  <thead>\n",
       "    <tr style=\"text-align: right;\">\n",
       "      <th></th>\n",
       "      <th>Produto</th>\n",
       "      <th>Preço</th>\n",
       "      <th>Quantidade</th>\n",
       "      <th>Categoria</th>\n",
       "      <th>Vendido_em</th>\n",
       "    </tr>\n",
       "  </thead>\n",
       "  <tbody>\n",
       "    <tr>\n",
       "      <th>1</th>\n",
       "      <td>Geladeira</td>\n",
       "      <td>-1500</td>\n",
       "      <td>2.0</td>\n",
       "      <td>Eletrodomestico</td>\n",
       "      <td>2022-01-11</td>\n",
       "    </tr>\n",
       "    <tr>\n",
       "      <th>7</th>\n",
       "      <td>Notebook</td>\n",
       "      <td>10000</td>\n",
       "      <td>1.0</td>\n",
       "      <td>ELETRONICO</td>\n",
       "      <td>2022-01-19</td>\n",
       "    </tr>\n",
       "  </tbody>\n",
       "</table>\n",
       "</div>"
      ],
      "text/plain": [
       "     Produto  Preço  Quantidade        Categoria  Vendido_em\n",
       "1  Geladeira  -1500         2.0  Eletrodomestico  2022-01-11\n",
       "7   Notebook  10000         1.0       ELETRONICO  2022-01-19"
      ]
     },
     "execution_count": 6,
     "metadata": {},
     "output_type": "execute_result"
    }
   ],
   "source": [
    "# Analizando os itens com preço negativo ou maior que 4000\n",
    "dataset.loc[(dataset[\"Preço\"] < 0)|(dataset[\"Preço\"] > 4000)]"
   ]
  },
  {
   "cell_type": "markdown",
   "id": "6acf8f98",
   "metadata": {},
   "source": [
    "Analizando o preço, um notebook atualmente fica entorno desse preço, então não considerarei 10000 um preço exorbitante!"
   ]
  },
  {
   "cell_type": "code",
   "execution_count": 7,
   "id": "cf37218c",
   "metadata": {},
   "outputs": [
    {
     "data": {
      "text/plain": [
       "1500.0"
      ]
     },
     "execution_count": 7,
     "metadata": {},
     "output_type": "execute_result"
    }
   ],
   "source": [
    "# Pegando a mediana dos preços\n",
    "mediana = sts.median(dataset[\"Preço\"]) \n",
    "mediana"
   ]
  },
  {
   "cell_type": "code",
   "execution_count": 8,
   "id": "b24d36b3",
   "metadata": {},
   "outputs": [],
   "source": [
    "# Trocando preço negativo pela mediana\n",
    "dataset.loc[dataset[\"Preço\"] < 0, \"Preço\"] = mediana"
   ]
  },
  {
   "cell_type": "code",
   "execution_count": 9,
   "id": "ad745e8e",
   "metadata": {},
   "outputs": [
    {
     "data": {
      "text/html": [
       "<div>\n",
       "<style scoped>\n",
       "    .dataframe tbody tr th:only-of-type {\n",
       "        vertical-align: middle;\n",
       "    }\n",
       "\n",
       "    .dataframe tbody tr th {\n",
       "        vertical-align: top;\n",
       "    }\n",
       "\n",
       "    .dataframe thead th {\n",
       "        text-align: right;\n",
       "    }\n",
       "</style>\n",
       "<table border=\"1\" class=\"dataframe\">\n",
       "  <thead>\n",
       "    <tr style=\"text-align: right;\">\n",
       "      <th></th>\n",
       "      <th>Produto</th>\n",
       "      <th>Preço</th>\n",
       "      <th>Quantidade</th>\n",
       "      <th>Categoria</th>\n",
       "      <th>Vendido_em</th>\n",
       "    </tr>\n",
       "  </thead>\n",
       "  <tbody>\n",
       "  </tbody>\n",
       "</table>\n",
       "</div>"
      ],
      "text/plain": [
       "Empty DataFrame\n",
       "Columns: [Produto, Preço, Quantidade, Categoria, Vendido_em]\n",
       "Index: []"
      ]
     },
     "execution_count": 9,
     "metadata": {},
     "output_type": "execute_result"
    }
   ],
   "source": [
    "# Verificando\n",
    "dataset.loc[dataset[\"Preço\"]<0]"
   ]
  },
  {
   "cell_type": "markdown",
   "id": "85e72edd",
   "metadata": {},
   "source": [
    "# Quantidade"
   ]
  },
  {
   "cell_type": "code",
   "execution_count": 10,
   "id": "85d92b92",
   "metadata": {},
   "outputs": [
    {
     "data": {
      "text/plain": [
       "2.0"
      ]
     },
     "execution_count": 10,
     "metadata": {},
     "output_type": "execute_result"
    }
   ],
   "source": [
    "# Tratando valores faltantes\n",
    "# Pegando a moda da quantidade\n",
    "moda = sts.mode(dataset[\"Quantidade\"])\n",
    "moda"
   ]
  },
  {
   "cell_type": "code",
   "execution_count": 11,
   "id": "db9bfea1",
   "metadata": {},
   "outputs": [],
   "source": [
    "# Substituindo NaN pela moda\n",
    "dataset.fillna({\"Quantidade\": moda}, inplace=True)"
   ]
  },
  {
   "cell_type": "markdown",
   "id": "78eda8fc",
   "metadata": {},
   "source": [
    "# Categoria"
   ]
  },
  {
   "cell_type": "code",
   "execution_count": 12,
   "id": "ebeb4829",
   "metadata": {},
   "outputs": [
    {
     "data": {
      "text/plain": [
       "Categoria\n",
       "ELETRONICO         1\n",
       "ELETRÔNICO         1\n",
       "Eletrodomestico    2\n",
       "Eletrodoméstico    1\n",
       "Eletronico         2\n",
       "eletrônico         1\n",
       "menos              2\n",
       "dtype: int64"
      ]
     },
     "execution_count": 12,
     "metadata": {},
     "output_type": "execute_result"
    }
   ],
   "source": [
    "# Verificando as categorias\n",
    "agrupado = dataset.groupby([\"Categoria\"]).size()\n",
    "agrupado"
   ]
  },
  {
   "cell_type": "code",
   "execution_count": 13,
   "id": "d1c5b30b",
   "metadata": {},
   "outputs": [],
   "source": [
    "# Padronizando categorias\n",
    "dataset.loc[dataset[\"Categoria\"].isin(['ELETRONICO', 'Eletronico', 'eletrônico', 'ELETRÔNICO']), \"Categoria\"] = 'ELETRÔNICO'"
   ]
  },
  {
   "cell_type": "code",
   "execution_count": 14,
   "id": "ea603a39",
   "metadata": {},
   "outputs": [],
   "source": [
    "dataset.loc[dataset[\"Categoria\"].isin(['Eletrodomestico', 'Eletrodoméstico']), \"Categoria\"] = 'ELETRODOMÉSTICO'"
   ]
  },
  {
   "cell_type": "code",
   "execution_count": 15,
   "id": "ef23d32c",
   "metadata": {},
   "outputs": [
    {
     "data": {
      "text/plain": [
       "'ELETRÔNICO'"
      ]
     },
     "execution_count": 15,
     "metadata": {},
     "output_type": "execute_result"
    }
   ],
   "source": [
    "# Pegando a moda para trocar o menos\n",
    "moda = sts.mode(dataset[\"Categoria\"])\n",
    "moda"
   ]
  },
  {
   "cell_type": "code",
   "execution_count": 16,
   "id": "7a99a931",
   "metadata": {},
   "outputs": [],
   "source": [
    "# Substituindo\n",
    "dataset.loc[dataset[\"Categoria\"] == \"menos\", \"Categoria\"] = moda"
   ]
  },
  {
   "cell_type": "code",
   "execution_count": 17,
   "id": "09829c7f",
   "metadata": {},
   "outputs": [
    {
     "data": {
      "text/plain": [
       "Categoria\n",
       "ELETRODOMÉSTICO    3\n",
       "ELETRÔNICO         7\n",
       "dtype: int64"
      ]
     },
     "execution_count": 17,
     "metadata": {},
     "output_type": "execute_result"
    }
   ],
   "source": [
    "# checkando\n",
    "agrupado = dataset.groupby([\"Categoria\"]).size()\n",
    "agrupado"
   ]
  },
  {
   "cell_type": "markdown",
   "id": "1e4b9070",
   "metadata": {},
   "source": [
    "# Vendido em.."
   ]
  },
  {
   "cell_type": "code",
   "execution_count": 21,
   "id": "5af7ac8d",
   "metadata": {},
   "outputs": [
    {
     "data": {
      "text/plain": [
       "np.int64(1)"
      ]
     },
     "execution_count": 21,
     "metadata": {},
     "output_type": "execute_result"
    }
   ],
   "source": [
    "# Vendo se tem valores nulos\n",
    "dataset['Vendido_em'].isnull().sum()"
   ]
  },
  {
   "cell_type": "code",
   "execution_count": 23,
   "id": "558056a7",
   "metadata": {},
   "outputs": [],
   "source": [
    "# colocando data aproximada\n",
    "dataset.fillna({\"Vendido_em\":'2022-01-12'}, inplace=True)"
   ]
  },
  {
   "cell_type": "markdown",
   "id": "4bfa1bf8",
   "metadata": {},
   "source": [
    "# Consistência entre quantidade e Vendas"
   ]
  },
  {
   "cell_type": "code",
   "execution_count": 25,
   "id": "a340291e",
   "metadata": {},
   "outputs": [
    {
     "data": {
      "text/html": [
       "<div>\n",
       "<style scoped>\n",
       "    .dataframe tbody tr th:only-of-type {\n",
       "        vertical-align: middle;\n",
       "    }\n",
       "\n",
       "    .dataframe tbody tr th {\n",
       "        vertical-align: top;\n",
       "    }\n",
       "\n",
       "    .dataframe thead th {\n",
       "        text-align: right;\n",
       "    }\n",
       "</style>\n",
       "<table border=\"1\" class=\"dataframe\">\n",
       "  <thead>\n",
       "    <tr style=\"text-align: right;\">\n",
       "      <th></th>\n",
       "      <th>Produto</th>\n",
       "      <th>Preço</th>\n",
       "      <th>Quantidade</th>\n",
       "      <th>Categoria</th>\n",
       "      <th>Vendido_em</th>\n",
       "    </tr>\n",
       "  </thead>\n",
       "  <tbody>\n",
       "    <tr>\n",
       "      <th>0</th>\n",
       "      <td>TV</td>\n",
       "      <td>2000</td>\n",
       "      <td>3.0</td>\n",
       "      <td>ELETRÔNICO</td>\n",
       "      <td>2022-01-10</td>\n",
       "    </tr>\n",
       "    <tr>\n",
       "      <th>1</th>\n",
       "      <td>Geladeira</td>\n",
       "      <td>1500</td>\n",
       "      <td>2.0</td>\n",
       "      <td>ELETRODOMÉSTICO</td>\n",
       "      <td>2022-01-11</td>\n",
       "    </tr>\n",
       "    <tr>\n",
       "      <th>2</th>\n",
       "      <td>Notebook</td>\n",
       "      <td>3500</td>\n",
       "      <td>2.0</td>\n",
       "      <td>ELETRÔNICO</td>\n",
       "      <td>2022-01-13</td>\n",
       "    </tr>\n",
       "    <tr>\n",
       "      <th>3</th>\n",
       "      <td>Celular</td>\n",
       "      <td>1200</td>\n",
       "      <td>10.0</td>\n",
       "      <td>ELETRÔNICO</td>\n",
       "      <td>2022-01-12</td>\n",
       "    </tr>\n",
       "    <tr>\n",
       "      <th>4</th>\n",
       "      <td>Fone</td>\n",
       "      <td>200</td>\n",
       "      <td>0.0</td>\n",
       "      <td>ELETRÔNICO</td>\n",
       "      <td>2022-01-15</td>\n",
       "    </tr>\n",
       "  </tbody>\n",
       "</table>\n",
       "</div>"
      ],
      "text/plain": [
       "     Produto  Preço  Quantidade        Categoria  Vendido_em\n",
       "0         TV   2000         3.0       ELETRÔNICO  2022-01-10\n",
       "1  Geladeira   1500         2.0  ELETRODOMÉSTICO  2022-01-11\n",
       "2   Notebook   3500         2.0       ELETRÔNICO  2022-01-13\n",
       "3    Celular   1200        10.0       ELETRÔNICO  2022-01-12\n",
       "4       Fone    200         0.0       ELETRÔNICO  2022-01-15"
      ]
     },
     "execution_count": 25,
     "metadata": {},
     "output_type": "execute_result"
    }
   ],
   "source": [
    "# Vendo o head do arquivo\n",
    "dataset.head()"
   ]
  },
  {
   "cell_type": "code",
   "execution_count": 28,
   "id": "269a957a",
   "metadata": {},
   "outputs": [],
   "source": [
    "dataset[\"Vendas\"] = (dataset[\"Preço\"] * dataset[\"Quantidade\"])"
   ]
  },
  {
   "cell_type": "code",
   "execution_count": 29,
   "id": "6fa037d2",
   "metadata": {},
   "outputs": [
    {
     "data": {
      "text/html": [
       "<div>\n",
       "<style scoped>\n",
       "    .dataframe tbody tr th:only-of-type {\n",
       "        vertical-align: middle;\n",
       "    }\n",
       "\n",
       "    .dataframe tbody tr th {\n",
       "        vertical-align: top;\n",
       "    }\n",
       "\n",
       "    .dataframe thead th {\n",
       "        text-align: right;\n",
       "    }\n",
       "</style>\n",
       "<table border=\"1\" class=\"dataframe\">\n",
       "  <thead>\n",
       "    <tr style=\"text-align: right;\">\n",
       "      <th></th>\n",
       "      <th>Produto</th>\n",
       "      <th>Preço</th>\n",
       "      <th>Quantidade</th>\n",
       "      <th>Categoria</th>\n",
       "      <th>Vendido_em</th>\n",
       "      <th>Vendas</th>\n",
       "    </tr>\n",
       "  </thead>\n",
       "  <tbody>\n",
       "    <tr>\n",
       "      <th>0</th>\n",
       "      <td>TV</td>\n",
       "      <td>2000</td>\n",
       "      <td>3.0</td>\n",
       "      <td>ELETRÔNICO</td>\n",
       "      <td>2022-01-10</td>\n",
       "      <td>6000.0</td>\n",
       "    </tr>\n",
       "    <tr>\n",
       "      <th>1</th>\n",
       "      <td>Geladeira</td>\n",
       "      <td>1500</td>\n",
       "      <td>2.0</td>\n",
       "      <td>ELETRODOMÉSTICO</td>\n",
       "      <td>2022-01-11</td>\n",
       "      <td>3000.0</td>\n",
       "    </tr>\n",
       "    <tr>\n",
       "      <th>2</th>\n",
       "      <td>Notebook</td>\n",
       "      <td>3500</td>\n",
       "      <td>2.0</td>\n",
       "      <td>ELETRÔNICO</td>\n",
       "      <td>2022-01-13</td>\n",
       "      <td>7000.0</td>\n",
       "    </tr>\n",
       "    <tr>\n",
       "      <th>3</th>\n",
       "      <td>Celular</td>\n",
       "      <td>1200</td>\n",
       "      <td>10.0</td>\n",
       "      <td>ELETRÔNICO</td>\n",
       "      <td>2022-01-12</td>\n",
       "      <td>12000.0</td>\n",
       "    </tr>\n",
       "    <tr>\n",
       "      <th>4</th>\n",
       "      <td>Fone</td>\n",
       "      <td>200</td>\n",
       "      <td>0.0</td>\n",
       "      <td>ELETRÔNICO</td>\n",
       "      <td>2022-01-15</td>\n",
       "      <td>0.0</td>\n",
       "    </tr>\n",
       "  </tbody>\n",
       "</table>\n",
       "</div>"
      ],
      "text/plain": [
       "     Produto  Preço  Quantidade        Categoria  Vendido_em   Vendas\n",
       "0         TV   2000         3.0       ELETRÔNICO  2022-01-10   6000.0\n",
       "1  Geladeira   1500         2.0  ELETRODOMÉSTICO  2022-01-11   3000.0\n",
       "2   Notebook   3500         2.0       ELETRÔNICO  2022-01-13   7000.0\n",
       "3    Celular   1200        10.0       ELETRÔNICO  2022-01-12  12000.0\n",
       "4       Fone    200         0.0       ELETRÔNICO  2022-01-15      0.0"
      ]
     },
     "execution_count": 29,
     "metadata": {},
     "output_type": "execute_result"
    }
   ],
   "source": [
    "dataset.head()"
   ]
  }
 ],
 "metadata": {
  "kernelspec": {
   "display_name": "base",
   "language": "python",
   "name": "python3"
  },
  "language_info": {
   "codemirror_mode": {
    "name": "ipython",
    "version": 3
   },
   "file_extension": ".py",
   "mimetype": "text/x-python",
   "name": "python",
   "nbconvert_exporter": "python",
   "pygments_lexer": "ipython3",
   "version": "3.13.5"
  }
 },
 "nbformat": 4,
 "nbformat_minor": 5
}
