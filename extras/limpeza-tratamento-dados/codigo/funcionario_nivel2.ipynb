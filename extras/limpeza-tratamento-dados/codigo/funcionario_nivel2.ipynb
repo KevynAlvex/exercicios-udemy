{
 "cells": [
  {
   "cell_type": "code",
   "execution_count": 1,
   "id": "294ed695",
   "metadata": {},
   "outputs": [],
   "source": [
    "import pandas as pd\n",
    "import statistics as sts\n",
    "import seaborn as srn"
   ]
  },
  {
   "cell_type": "code",
   "execution_count": 8,
   "id": "c82b078b",
   "metadata": {},
   "outputs": [
    {
     "data": {
      "text/html": [
       "<div>\n",
       "<style scoped>\n",
       "    .dataframe tbody tr th:only-of-type {\n",
       "        vertical-align: middle;\n",
       "    }\n",
       "\n",
       "    .dataframe tbody tr th {\n",
       "        vertical-align: top;\n",
       "    }\n",
       "\n",
       "    .dataframe thead th {\n",
       "        text-align: right;\n",
       "    }\n",
       "</style>\n",
       "<table border=\"1\" class=\"dataframe\">\n",
       "  <thead>\n",
       "    <tr style=\"text-align: right;\">\n",
       "      <th></th>\n",
       "      <th>Nome</th>\n",
       "      <th>Idade</th>\n",
       "      <th>Salário</th>\n",
       "      <th>Setor</th>\n",
       "      <th>Ativo</th>\n",
       "    </tr>\n",
       "  </thead>\n",
       "  <tbody>\n",
       "    <tr>\n",
       "      <th>0</th>\n",
       "      <td>João</td>\n",
       "      <td>25</td>\n",
       "      <td>3000.0</td>\n",
       "      <td>TI</td>\n",
       "      <td>sim</td>\n",
       "    </tr>\n",
       "    <tr>\n",
       "      <th>1</th>\n",
       "      <td>Maria</td>\n",
       "      <td>-5</td>\n",
       "      <td>4000.0</td>\n",
       "      <td>RH</td>\n",
       "      <td>não</td>\n",
       "    </tr>\n",
       "    <tr>\n",
       "      <th>2</th>\n",
       "      <td>Pedro</td>\n",
       "      <td>45</td>\n",
       "      <td>NaN</td>\n",
       "      <td>Comercial</td>\n",
       "      <td>sim</td>\n",
       "    </tr>\n",
       "    <tr>\n",
       "      <th>3</th>\n",
       "      <td>Ana</td>\n",
       "      <td>30</td>\n",
       "      <td>999999.0</td>\n",
       "      <td>menos</td>\n",
       "      <td>NaN</td>\n",
       "    </tr>\n",
       "    <tr>\n",
       "      <th>4</th>\n",
       "      <td>Carlos</td>\n",
       "      <td>150</td>\n",
       "      <td>2800.0</td>\n",
       "      <td>ti</td>\n",
       "      <td>sim</td>\n",
       "    </tr>\n",
       "  </tbody>\n",
       "</table>\n",
       "</div>"
      ],
      "text/plain": [
       "     Nome  Idade   Salário      Setor Ativo\n",
       "0    João     25    3000.0         TI   sim\n",
       "1   Maria     -5    4000.0         RH   não\n",
       "2   Pedro     45       NaN  Comercial   sim\n",
       "3     Ana     30  999999.0      menos   NaN\n",
       "4  Carlos    150    2800.0         ti   sim"
      ]
     },
     "execution_count": 8,
     "metadata": {},
     "output_type": "execute_result"
    }
   ],
   "source": [
    "# Importando dados\n",
    "dataset = pd.read_csv('../csv/funcionarios_nivel2.csv')\n",
    "\n",
    "# vendo o head da tabela\n",
    "dataset.head()"
   ]
  },
  {
   "cell_type": "code",
   "execution_count": 9,
   "id": "e5401811",
   "metadata": {},
   "outputs": [
    {
     "data": {
      "text/plain": [
       "Nome       0\n",
       "Idade      0\n",
       "Salário    2\n",
       "Setor      0\n",
       "Ativo      2\n",
       "dtype: int64"
      ]
     },
     "execution_count": 9,
     "metadata": {},
     "output_type": "execute_result"
    }
   ],
   "source": [
    "# Vendo os valores nulos\n",
    "dataset.isnull().sum()"
   ]
  },
  {
   "cell_type": "code",
   "execution_count": null,
   "id": "87bc39b3",
   "metadata": {},
   "outputs": [
    {
     "data": {
      "text/plain": [
       "np.int64(0)"
      ]
     },
     "execution_count": 11,
     "metadata": {},
     "output_type": "execute_result"
    }
   ],
   "source": [
    "# Vendo se há valores (identificadoes) duplicados\n",
    "dataset.duplicated().sum() "
   ]
  },
  {
   "cell_type": "code",
   "execution_count": 25,
   "id": "83f9e210",
   "metadata": {},
   "outputs": [
    {
     "data": {
      "text/plain": [
       "<Axes: ylabel='Idade'>"
      ]
     },
     "execution_count": 25,
     "metadata": {},
     "output_type": "execute_result"
    },
    {
     "data": {
      "image/png": "[encoded data removed]",
      "text/plain": [
       "<Figure size 640x480 with 1 Axes>"
      ]
     },
     "metadata": {},
     "output_type": "display_data"
    }
   ],
   "source": [
    "# Analisando Gráficos da Idade\n",
    "srn.boxplot(dataset[\"Idade\"])"
   ]
  },
  {
   "cell_type": "markdown",
   "id": "dfac97f0",
   "metadata": {},
   "source": [
    "<!-- O que corrigir -->\n",
    "- Idades maiores 120 anos e menores que 0\n",
    "- 2 Pontos específicos\n",
    "- Mudar essas idades pela media das idades"
   ]
  },
  {
   "cell_type": "code",
   "execution_count": 28,
   "id": "e6f40790",
   "metadata": {},
   "outputs": [
    {
     "data": {
      "text/html": [
       "<div>\n",
       "<style scoped>\n",
       "    .dataframe tbody tr th:only-of-type {\n",
       "        vertical-align: middle;\n",
       "    }\n",
       "\n",
       "    .dataframe tbody tr th {\n",
       "        vertical-align: top;\n",
       "    }\n",
       "\n",
       "    .dataframe thead th {\n",
       "        text-align: right;\n",
       "    }\n",
       "</style>\n",
       "<table border=\"1\" class=\"dataframe\">\n",
       "  <thead>\n",
       "    <tr style=\"text-align: right;\">\n",
       "      <th></th>\n",
       "      <th>Nome</th>\n",
       "      <th>Idade</th>\n",
       "      <th>Salário</th>\n",
       "      <th>Setor</th>\n",
       "      <th>Ativo</th>\n",
       "    </tr>\n",
       "  </thead>\n",
       "  <tbody>\n",
       "    <tr>\n",
       "      <th>1</th>\n",
       "      <td>Maria</td>\n",
       "      <td>-5</td>\n",
       "      <td>4000.0</td>\n",
       "      <td>RH</td>\n",
       "      <td>não</td>\n",
       "    </tr>\n",
       "    <tr>\n",
       "      <th>4</th>\n",
       "      <td>Carlos</td>\n",
       "      <td>150</td>\n",
       "      <td>2800.0</td>\n",
       "      <td>ti</td>\n",
       "      <td>sim</td>\n",
       "    </tr>\n",
       "  </tbody>\n",
       "</table>\n",
       "</div>"
      ],
      "text/plain": [
       "     Nome  Idade  Salário Setor Ativo\n",
       "1   Maria     -5   4000.0    RH   não\n",
       "4  Carlos    150   2800.0    ti   sim"
      ]
     },
     "execution_count": 28,
     "metadata": {},
     "output_type": "execute_result"
    }
   ],
   "source": [
    "# Analizando os pontos específicos\n",
    "dataset.loc[(dataset[\"Idade\"] < 0)|(dataset[\"Idade\"] > 120)]"
   ]
  },
  {
   "cell_type": "code",
   "execution_count": 35,
   "id": "958345e6",
   "metadata": {},
   "outputs": [
    {
     "data": {
      "text/plain": [
       "44.8"
      ]
     },
     "execution_count": 35,
     "metadata": {},
     "output_type": "execute_result"
    }
   ],
   "source": [
    "# pegando a media das idades\n",
    "media = sts.mean(dataset[\"Idade\"])\n",
    "media"
   ]
  },
  {
   "cell_type": "code",
   "execution_count": 36,
   "id": "9da0cbf8",
   "metadata": {},
   "outputs": [],
   "source": [
    "# Substituindo pela parte inteira da media\n",
    "dataset.loc[(dataset[\"Idade\"] < 0 )|(dataset[\"Idade\"] > 120), \"Idade\"] = int(media)"
   ]
  },
  {
   "cell_type": "code",
   "execution_count": 38,
   "id": "521efd2f",
   "metadata": {},
   "outputs": [
    {
     "data": {
      "text/html": [
       "<div>\n",
       "<style scoped>\n",
       "    .dataframe tbody tr th:only-of-type {\n",
       "        vertical-align: middle;\n",
       "    }\n",
       "\n",
       "    .dataframe tbody tr th {\n",
       "        vertical-align: top;\n",
       "    }\n",
       "\n",
       "    .dataframe thead th {\n",
       "        text-align: right;\n",
       "    }\n",
       "</style>\n",
       "<table border=\"1\" class=\"dataframe\">\n",
       "  <thead>\n",
       "    <tr style=\"text-align: right;\">\n",
       "      <th></th>\n",
       "      <th>Nome</th>\n",
       "      <th>Idade</th>\n",
       "      <th>Salário</th>\n",
       "      <th>Setor</th>\n",
       "      <th>Ativo</th>\n",
       "    </tr>\n",
       "  </thead>\n",
       "  <tbody>\n",
       "  </tbody>\n",
       "</table>\n",
       "</div>"
      ],
      "text/plain": [
       "Empty DataFrame\n",
       "Columns: [Nome, Idade, Salário, Setor, Ativo]\n",
       "Index: []"
      ]
     },
     "execution_count": 38,
     "metadata": {},
     "output_type": "execute_result"
    }
   ],
   "source": [
    "# Verificando\n",
    "dataset.loc[(dataset[\"Idade\"] < 0)|(dataset[\"Idade\"] > 120)]"
   ]
  },
  {
   "cell_type": "code",
   "execution_count": 42,
   "id": "5cbf83a7",
   "metadata": {},
   "outputs": [
    {
     "data": {
      "text/plain": [
       "3350.0"
      ]
     },
     "execution_count": 42,
     "metadata": {},
     "output_type": "execute_result"
    }
   ],
   "source": [
    "# Iniciando Salário\n",
    "# Setando Mediana do salário\n",
    "\n",
    "mediana = sts.median(dataset[\"Salário\"])\n",
    "mediana"
   ]
  },
  {
   "cell_type": "code",
   "execution_count": 50,
   "id": "81238042",
   "metadata": {},
   "outputs": [],
   "source": [
    "# Substituindo salários vazios pela mediana\n",
    "dataset.fillna({\"Salário\": mediana}, inplace=True)"
   ]
  },
  {
   "cell_type": "code",
   "execution_count": 52,
   "id": "1d0ce60a",
   "metadata": {},
   "outputs": [],
   "source": [
    "# Substituindo salário exorbitante pela mediana\n",
    "dataset.loc[dataset[\"Salário\"] > 99999, \"Salário\"] = mediana"
   ]
  },
  {
   "cell_type": "code",
   "execution_count": null,
   "id": "cc6d320d",
   "metadata": {},
   "outputs": [
    {
     "data": {
      "text/plain": [
       "<seaborn.axisgrid.FacetGrid at 0x1a1a928c910>"
      ]
     },
     "execution_count": 53,
     "metadata": {},
     "output_type": "execute_result"
    },
    {
     "data": {
      "image/png": "[encoded data removed]",
      "text/plain": [
       "<Figure size 500x500 with 1 Axes>"
      ]
     },
     "metadata": {},
     "output_type": "display_data"
    }
   ],
   "source": [
    "# Verificando com gráfico se há algum salário maior que 10000\n",
    "# Salário até 10000 ainda é aceitavel  pelo meu ponto de vista!\n",
    "srn.displot(dataset[\"Salário\"])"
   ]
  },
  {
   "cell_type": "code",
   "execution_count": 54,
   "id": "f93361e3",
   "metadata": {},
   "outputs": [
    {
     "data": {
      "text/plain": [
       "Setor\n",
       "Comercial     1\n",
       "Finance       1\n",
       "Financeiro    1\n",
       "RH            2\n",
       "T.I.          1\n",
       "TI            1\n",
       "financeiro    1\n",
       "menos         1\n",
       "ti            1\n",
       "dtype: int64"
      ]
     },
     "execution_count": 54,
     "metadata": {},
     "output_type": "execute_result"
    }
   ],
   "source": [
    "# Iniciando SETOR\n",
    "# agrupando para ver os setores e quais são os faltantes\n",
    "agrupado = dataset.groupby([\"Setor\"]).size()\n",
    "agrupado"
   ]
  },
  {
   "cell_type": "markdown",
   "id": "e142f785",
   "metadata": {},
   "source": [
    "- Padronizar Setores para:\n",
    "- TI\n",
    "- Fincanceiro\n",
    "- Comercial\n",
    "- RH"
   ]
  },
  {
   "cell_type": "code",
   "execution_count": 55,
   "id": "df845ddc",
   "metadata": {},
   "outputs": [],
   "source": [
    "# Padronizando TI\n",
    "dataset.loc[dataset[\"Setor\"].isin(['T.I.','ti']), \"Setor\"] = \"TI\""
   ]
  },
  {
   "cell_type": "code",
   "execution_count": 56,
   "id": "c76bbcf9",
   "metadata": {},
   "outputs": [],
   "source": [
    "# Padronizando Financeiro\n",
    "dataset.loc[dataset[\"Setor\"].isin(['financeiro','Finance']), \"Setor\"] = \"Financeiro\""
   ]
  },
  {
   "cell_type": "code",
   "execution_count": 58,
   "id": "6ba167e8",
   "metadata": {},
   "outputs": [
    {
     "data": {
      "text/plain": [
       "Setor\n",
       "Comercial     1\n",
       "Financeiro    3\n",
       "RH            2\n",
       "TI            3\n",
       "menos         1\n",
       "dtype: int64"
      ]
     },
     "execution_count": 58,
     "metadata": {},
     "output_type": "execute_result"
    }
   ],
   "source": [
    "# Verificando quais faltam\n",
    "agrupado = dataset.groupby([\"Setor\"]).size()\n",
    "agrupado"
   ]
  },
  {
   "cell_type": "code",
   "execution_count": 60,
   "id": "4e1b5f79",
   "metadata": {},
   "outputs": [
    {
     "data": {
      "text/plain": [
       "'TI'"
      ]
     },
     "execution_count": 60,
     "metadata": {},
     "output_type": "execute_result"
    }
   ],
   "source": [
    "# Pegando a moda para mudar o setor \"menos\"\n",
    "moda = sts.mode(dataset[\"Setor\"]) \n",
    "moda"
   ]
  },
  {
   "cell_type": "code",
   "execution_count": 61,
   "id": "1e091862",
   "metadata": {},
   "outputs": [],
   "source": [
    "# Trocando \"menos\" pela moda\n",
    "dataset.loc[dataset[\"Setor\"] == 'menos', \"Setor\"] = moda"
   ]
  },
  {
   "cell_type": "code",
   "execution_count": 62,
   "id": "d040766e",
   "metadata": {},
   "outputs": [
    {
     "data": {
      "text/plain": [
       "Setor\n",
       "Comercial     1\n",
       "Financeiro    3\n",
       "RH            2\n",
       "TI            4\n",
       "dtype: int64"
      ]
     },
     "execution_count": 62,
     "metadata": {},
     "output_type": "execute_result"
    }
   ],
   "source": [
    "# Verificando\n",
    "agrupado = dataset.groupby([\"Setor\"]).size()\n",
    "agrupado"
   ]
  },
  {
   "cell_type": "markdown",
   "id": "2c8e638f",
   "metadata": {},
   "source": [
    "Verificar ativos:\n",
    "- Padronizar caso não haja padronização\n",
    "- Substituir valores nulos"
   ]
  },
  {
   "cell_type": "code",
   "execution_count": 64,
   "id": "9cc679e2",
   "metadata": {},
   "outputs": [
    {
     "data": {
      "text/plain": [
       "np.int64(2)"
      ]
     },
     "execution_count": 64,
     "metadata": {},
     "output_type": "execute_result"
    }
   ],
   "source": [
    "# Quantidade de nulos\n",
    "dataset[\"Ativo\"].isnull().sum()"
   ]
  },
  {
   "cell_type": "code",
   "execution_count": 65,
   "id": "9df77769",
   "metadata": {},
   "outputs": [
    {
     "data": {
      "text/plain": [
       "Ativo\n",
       "nao    1\n",
       "não    2\n",
       "sim    5\n",
       "dtype: int64"
      ]
     },
     "execution_count": 65,
     "metadata": {},
     "output_type": "execute_result"
    }
   ],
   "source": [
    "# Ver grupos\n",
    "agrupado = dataset.groupby([\"Ativo\"]).size()\n",
    "agrupado "
   ]
  },
  {
   "cell_type": "code",
   "execution_count": 66,
   "id": "3e16ffb8",
   "metadata": {},
   "outputs": [],
   "source": [
    "# Mudando nao para não\n",
    "dataset.loc[dataset[\"Ativo\"] == \"nao\", \"Ativo\"] = \"não\""
   ]
  },
  {
   "cell_type": "code",
   "execution_count": 69,
   "id": "c7011b91",
   "metadata": {},
   "outputs": [
    {
     "data": {
      "text/plain": [
       "Ativo\n",
       "não    3\n",
       "sim    5\n",
       "dtype: int64"
      ]
     },
     "execution_count": 69,
     "metadata": {},
     "output_type": "execute_result"
    }
   ],
   "source": [
    "# verificando\n",
    "agrupado = dataset.groupby([\"Ativo\"]).size()\n",
    "agrupado "
   ]
  },
  {
   "cell_type": "code",
   "execution_count": 71,
   "id": "d20f762c",
   "metadata": {},
   "outputs": [],
   "source": [
    "# Trocando valores vazios por sim (moda)\n",
    "dataset.fillna({\"Ativo\":\"sim\"}, inplace=True)"
   ]
  }
 ],
 "metadata": {
  "kernelspec": {
   "display_name": "base",
   "language": "python",
   "name": "python3"
  },
  "language_info": {
   "codemirror_mode": {
    "name": "ipython",
    "version": 3
   },
   "file_extension": ".py",
   "mimetype": "text/x-python",
   "name": "python",
   "nbconvert_exporter": "python",
   "pygments_lexer": "ipython3",
   "version": "3.13.5"
  }
 },
 "nbformat": 4,
 "nbformat_minor": 5
}
