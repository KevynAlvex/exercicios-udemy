{
 "cells": [
  {
   "cell_type": "code",
   "execution_count": 29,
   "id": "bdc5df0c",
   "metadata": {},
   "outputs": [],
   "source": [
    "from functions import *"
   ]
  },
  {
   "cell_type": "code",
   "execution_count": 32,
   "id": "73a12e5b",
   "metadata": {},
   "outputs": [
    {
     "name": "stdout",
     "output_type": "stream",
     "text": [
      "A amplitude da lista é:  76\n",
      "A amplitude da lista é:  82\n",
      "A amplitude da lista é:  73\n",
      "A amplitude da lista é:  88\n"
     ]
    }
   ],
   "source": [
    "# usando a funcao de amplitude\n",
    "def amplic(lista):\n",
    "    maior = max(lista)\n",
    "    menor = min(lista)\n",
    "    ampli = maior - menor\n",
    "    print('A amplitude da lista é: ', ampli)\n",
    "\n",
    "lista1 = [14, 51, 39, 8, 84]\n",
    "amplic(lista1)\n",
    "lista2 = [69, 95, 87, 13, 52]\n",
    "amplic(lista2)\n",
    "lista3 = [4, 75, 64, 65, 2]\n",
    "amplic(lista3)\n",
    "lista4 = [20, 20, 40, 3, 91]\n",
    "amplic(lista4)"
   ]
  },
  {
   "cell_type": "code",
   "execution_count": 18,
   "id": "df98fdc7",
   "metadata": {},
   "outputs": [
    {
     "name": "stdout",
     "output_type": "stream",
     "text": [
      "P\n",
      "y\n",
      "t\n",
      "h\n",
      "o\n",
      "n\n"
     ]
    }
   ],
   "source": [
    "# usando a função de vertical\n",
    "palavra = input('Insira a palavra: ').strip()\n",
    "vertical(palavra)"
   ]
  },
  {
   "cell_type": "code",
   "execution_count": 8,
   "id": "fabf1974",
   "metadata": {},
   "outputs": [
    {
     "name": "stdout",
     "output_type": "stream",
     "text": [
      "O transporte não será aceito\n"
     ]
    }
   ],
   "source": [
    "# usando a função de pesos\n",
    "peso = int(input('Insira o peso: '))\n",
    "pesos(peso)"
   ]
  }
 ],
 "metadata": {
  "kernelspec": {
   "display_name": ".venv",
   "language": "python",
   "name": "python3"
  },
  "language_info": {
   "codemirror_mode": {
    "name": "ipython",
    "version": 3
   },
   "file_extension": ".py",
   "mimetype": "text/x-python",
   "name": "python",
   "nbconvert_exporter": "python",
   "pygments_lexer": "ipython3",
   "version": "3.13.5"
  }
 },
 "nbformat": 4,
 "nbformat_minor": 5
}
